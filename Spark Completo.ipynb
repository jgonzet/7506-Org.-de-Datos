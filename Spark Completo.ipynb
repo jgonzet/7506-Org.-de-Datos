{
  "nbformat": 4,
  "nbformat_minor": 0,
  "metadata": {
    "colab": {
      "name": "Spagk.ipynb",
      "provenance": [],
      "collapsed_sections": [],
      "include_colab_link": true
    },
    "kernelspec": {
      "name": "python3",
      "display_name": "Python 3"
    }
  },
  "cells": [
    {
      "cell_type": "markdown",
      "metadata": {
        "id": "view-in-github",
        "colab_type": "text"
      },
      "source": [
        "<a href=\"https://colab.research.google.com/github/jgonzet/Data-Management-7605-/blob/master/Spark%20Completo.ipynb\" target=\"_parent\"><img src=\"https://colab.research.google.com/assets/colab-badge.svg\" alt=\"Open In Colab\"/></a>"
      ]
    },
    {
      "cell_type": "markdown",
      "metadata": {
        "id": "KHdU05jEP1EY"
      },
      "source": [
        "# Instalamos e importamos librerías"
      ]
    },
    {
      "cell_type": "code",
      "metadata": {
        "id": "fnV5re322Wz9"
      },
      "source": [
        "!pip install pyspark\n",
        "!pip install -U -q PyDrive\n",
        "!apt install openjdk-8-jdk-headless -qq\n",
        "import os\n",
        "os.environ[\"JAVA_HOME\"] = \"/usr/lib/jvm/java-8-openjdk-amd64\""
      ],
      "execution_count": null,
      "outputs": []
    },
    {
      "cell_type": "code",
      "metadata": {
        "id": "nhYIAjti3iaf"
      },
      "source": [
        "from pydrive.auth import GoogleAuth\n",
        "from pydrive.drive import GoogleDrive\n",
        "from google.colab import auth\n",
        "from oauth2client.client import GoogleCredentials\n",
        "from pyspark.sql import *\n",
        "from pyspark.sql.functions import *\n",
        "from pyspark import SparkContext\n",
        "from pyspark.sql import SQLContext\n",
        "import pandas as pd"
      ],
      "execution_count": null,
      "outputs": []
    },
    {
      "cell_type": "markdown",
      "metadata": {
        "id": "Xlsys9XvQHGK"
      },
      "source": [
        "# Autenticamos con Google Drive"
      ]
    },
    {
      "cell_type": "code",
      "metadata": {
        "id": "WmVhF9Pi3mbH"
      },
      "source": [
        "auth.authenticate_user()\n",
        "gauth = GoogleAuth()\n",
        "gauth.credentials = GoogleCredentials.get_application_default()\n",
        "drive = GoogleDrive(gauth)"
      ],
      "execution_count": null,
      "outputs": []
    },
    {
      "cell_type": "markdown",
      "metadata": {
        "id": "8qZCCf99QPGn"
      },
      "source": [
        "# Bajamos archivo con la colección de Shakespeare"
      ]
    },
    {
      "cell_type": "code",
      "metadata": {
        "id": "CoqqUqNV3wFZ"
      },
      "source": [
        "downloaded = drive.CreateFile({'id':\"1ybtSQxrqVqbRrl_3FMzMYW03Flp4zM-j\"})   # replace the id with id of file you want to access\n",
        "downloaded.GetContentFile('s.txt') "
      ],
      "execution_count": null,
      "outputs": []
    },
    {
      "cell_type": "markdown",
      "metadata": {
        "id": "JCKfIhFUQiyg"
      },
      "source": [
        "# Creamos el Spark Context"
      ]
    },
    {
      "cell_type": "code",
      "metadata": {
        "id": "5ENPglW_4Cco"
      },
      "source": [
        "# create the Spark Session\n",
        "spark = SparkSession.builder.getOrCreate()\n",
        "\n",
        "# create the Spark Context\n",
        "sc = spark.sparkContext"
      ],
      "execution_count": null,
      "outputs": []
    },
    {
      "cell_type": "code",
      "metadata": {
        "id": "68-dxCy6IqWv"
      },
      "source": [
        "type(sc)"
      ],
      "execution_count": null,
      "outputs": []
    },
    {
      "cell_type": "markdown",
      "metadata": {
        "id": "-CbdyUxRQuO1"
      },
      "source": [
        "# Lectura de datos en Spark"
      ]
    },
    {
      "cell_type": "markdown",
      "metadata": {
        "id": "4hsKVzAOJCNZ"
      },
      "source": [
        "## Paralelizando una coleccion de python"
      ]
    },
    {
      "cell_type": "code",
      "metadata": {
        "id": "SlaLdgdfI6Nm",
        "colab": {
          "base_uri": "https://localhost:8080/",
          "height": 35
        },
        "outputId": "a37f095e-b078-4ded-f543-d1ca4a1477cd"
      },
      "source": [
        "## creamos 1000 enteros en una lista\n",
        "integersList = range(1,1001)\n",
        "len(integersList)"
      ],
      "execution_count": null,
      "outputs": [
        {
          "output_type": "execute_result",
          "data": {
            "text/plain": [
              "1000"
            ]
          },
          "metadata": {
            "tags": []
          },
          "execution_count": 41
        }
      ]
    },
    {
      "cell_type": "code",
      "metadata": {
        "id": "Cg31cLQYJQFP",
        "colab": {
          "base_uri": "https://localhost:8080/",
          "height": 35
        },
        "outputId": "b0247a02-50b6-4707-c2bd-b4558bb841f7"
      },
      "source": [
        "## Paralelizamos la coleccion utilizando 8 particiones o slices\n",
        "## Esta operacion es una transformacion de datos en un RDD\n",
        "## Dado que Spark usa lazy evaluation, no corren jobs de Spark\n",
        "## hasta el momento\n",
        "integersListRDD = sc.parallelize(integersList, 8)\n",
        "type(integersListRDD)"
      ],
      "execution_count": null,
      "outputs": [
        {
          "output_type": "execute_result",
          "data": {
            "text/plain": [
              "pyspark.rdd.PipelinedRDD"
            ]
          },
          "metadata": {
            "tags": []
          },
          "execution_count": 42
        }
      ]
    },
    {
      "cell_type": "code",
      "metadata": {
        "id": "1YieMrEDJXEQ"
      },
      "source": [
        "## podemos ver tambien otra informacion interesante del RDD\n",
        "## el numero de particiones\n",
        "integersListRDD.getNumPartitions()"
      ],
      "execution_count": null,
      "outputs": []
    },
    {
      "cell_type": "code",
      "metadata": {
        "id": "3R9126T7JiA0"
      },
      "source": [
        "## el conjunto de transformaciones que se aplica\n",
        "integersListRDD.toDebugString()"
      ],
      "execution_count": null,
      "outputs": []
    },
    {
      "cell_type": "code",
      "metadata": {
        "id": "ekG7ZqGOJm3-"
      },
      "source": [
        "## para ver mas metodos disponibles del RDD\n",
        "help(integersListRDD)"
      ],
      "execution_count": null,
      "outputs": []
    },
    {
      "cell_type": "code",
      "metadata": {
        "id": "9vE0HNwGKMgE"
      },
      "source": [
        "integersListRDD.take(5)"
      ],
      "execution_count": null,
      "outputs": []
    },
    {
      "cell_type": "code",
      "metadata": {
        "id": "uTkCa9z4KSDX"
      },
      "source": [
        "integersListRDD.count()"
      ],
      "execution_count": null,
      "outputs": []
    },
    {
      "cell_type": "markdown",
      "metadata": {
        "id": "oxRHG4v4R4Rz"
      },
      "source": [
        "## Leyendo archivo con textFile"
      ]
    },
    {
      "cell_type": "code",
      "metadata": {
        "id": "RRIlDQRr4EkJ"
      },
      "source": [
        "rdd = spark.sparkContext.textFile('s.txt')"
      ],
      "execution_count": null,
      "outputs": []
    },
    {
      "cell_type": "code",
      "metadata": {
        "id": "cPzWiShdsa8T"
      },
      "source": [
        "rdd"
      ],
      "execution_count": null,
      "outputs": []
    },
    {
      "cell_type": "code",
      "metadata": {
        "id": "wxiacj7U9-Fh"
      },
      "source": [
        "rdd.count()"
      ],
      "execution_count": null,
      "outputs": []
    },
    {
      "cell_type": "code",
      "metadata": {
        "id": "Z7ot8-hDKZqR"
      },
      "source": [
        "rdd.take(5)"
      ],
      "execution_count": null,
      "outputs": []
    },
    {
      "cell_type": "markdown",
      "metadata": {
        "id": "iQuEiCSwTFcL"
      },
      "source": [
        "## Leyendo datos con el sqlContext"
      ]
    },
    {
      "cell_type": "code",
      "metadata": {
        "id": "xjqckKbCSN6m"
      },
      "source": [
        "sqlContext = SQLContext(sc)"
      ],
      "execution_count": null,
      "outputs": []
    },
    {
      "cell_type": "code",
      "metadata": {
        "id": "cBkiBRPxUbLe"
      },
      "source": [
        "dataframe = sqlContext.read.text('s.txt')"
      ],
      "execution_count": null,
      "outputs": []
    },
    {
      "cell_type": "code",
      "metadata": {
        "id": "WogrwH_4Uo97"
      },
      "source": [
        "dataframe"
      ],
      "execution_count": null,
      "outputs": []
    },
    {
      "cell_type": "code",
      "metadata": {
        "id": "yWc_JpLHUqqz"
      },
      "source": [
        "rddCsv = dataframe.rdd"
      ],
      "execution_count": null,
      "outputs": []
    },
    {
      "cell_type": "code",
      "metadata": {
        "id": "YqN2PigYUv2P"
      },
      "source": [
        "rddCsv"
      ],
      "execution_count": null,
      "outputs": []
    },
    {
      "cell_type": "code",
      "metadata": {
        "id": "6u4liP2TUx3P"
      },
      "source": [
        "rddCsv.take(5)"
      ],
      "execution_count": null,
      "outputs": []
    },
    {
      "cell_type": "markdown",
      "metadata": {
        "id": "9cKE58VzTabI"
      },
      "source": [
        "Tambien se pueden leer archivos csv, json, parquet, jdbc, etc"
      ]
    },
    {
      "cell_type": "markdown",
      "metadata": {
        "id": "tQ2zW38tNPao"
      },
      "source": [
        "# Acciones"
      ]
    },
    {
      "cell_type": "markdown",
      "metadata": {
        "id": "YK9_c-ZANS6q"
      },
      "source": [
        "## Count"
      ]
    },
    {
      "cell_type": "markdown",
      "metadata": {
        "id": "1bQR6UgRDcF8"
      },
      "source": [
        "Obtiene la cantidad de registros del RDD"
      ]
    },
    {
      "cell_type": "code",
      "metadata": {
        "id": "vL9EXNnGNYPg",
        "colab": {
          "base_uri": "https://localhost:8080/",
          "height": 167
        },
        "outputId": "5c73cfd4-a27d-4338-a795-8be5e2b4d2c2"
      },
      "source": [
        "integersListRDD.count()"
      ],
      "execution_count": null,
      "outputs": [
        {
          "output_type": "error",
          "ename": "NameError",
          "evalue": "ignored",
          "traceback": [
            "\u001b[0;31m---------------------------------------------------------------------------\u001b[0m",
            "\u001b[0;31mNameError\u001b[0m                                 Traceback (most recent call last)",
            "\u001b[0;32m<ipython-input-40-e8230e6aaa0b>\u001b[0m in \u001b[0;36m<module>\u001b[0;34m()\u001b[0m\n\u001b[0;32m----> 1\u001b[0;31m \u001b[0mintegersListRDD\u001b[0m\u001b[0;34m.\u001b[0m\u001b[0mcount\u001b[0m\u001b[0;34m(\u001b[0m\u001b[0;34m)\u001b[0m\u001b[0;34m\u001b[0m\u001b[0;34m\u001b[0m\u001b[0m\n\u001b[0m",
            "\u001b[0;31mNameError\u001b[0m: name 'integersListRDD' is not defined"
          ]
        }
      ]
    },
    {
      "cell_type": "markdown",
      "metadata": {
        "id": "-uui6n-EBjhG"
      },
      "source": [
        "### Take"
      ]
    },
    {
      "cell_type": "markdown",
      "metadata": {
        "id": "kdULVg5pDg1W"
      },
      "source": [
        "Obtiene los primeros n registros del RDD"
      ]
    },
    {
      "cell_type": "code",
      "metadata": {
        "id": "d-TEqf-RNbqG"
      },
      "source": [
        "integersListRDD.take(5)"
      ],
      "execution_count": null,
      "outputs": []
    },
    {
      "cell_type": "markdown",
      "metadata": {
        "id": "S3KYoynwBnBf"
      },
      "source": [
        "## Collect"
      ]
    },
    {
      "cell_type": "markdown",
      "metadata": {
        "id": "9tBbHaOFDk1Q"
      },
      "source": [
        "Obtiene TODOS los registros del RDD. Esto es un potencial problema, ya que si los datos no son acotados va a sobrecargar el driver. Solo se debe ejecutar si de antemano conocemos que la cantidad de datos es acotada."
      ]
    },
    {
      "cell_type": "code",
      "metadata": {
        "id": "dVwrmdsQNezf"
      },
      "source": [
        "integersListRDD.collect() # danger"
      ],
      "execution_count": null,
      "outputs": []
    },
    {
      "cell_type": "markdown",
      "metadata": {
        "id": "qkau0dZTBq8Z"
      },
      "source": [
        "## First"
      ]
    },
    {
      "cell_type": "markdown",
      "metadata": {
        "id": "HFWwYplgD_3a"
      },
      "source": [
        "Obtiene el primer registro del RDD"
      ]
    },
    {
      "cell_type": "code",
      "metadata": {
        "id": "HOYGelqqNkCC"
      },
      "source": [
        "integersListRDD.first()"
      ],
      "execution_count": null,
      "outputs": []
    },
    {
      "cell_type": "markdown",
      "metadata": {
        "id": "7FwrpPTlBuhZ"
      },
      "source": [
        "## TakeOrdered"
      ]
    },
    {
      "cell_type": "markdown",
      "metadata": {
        "id": "l0OucoHZEC6h"
      },
      "source": [
        "Obtiene los primeros n registros en base a un orden indicado."
      ]
    },
    {
      "cell_type": "code",
      "metadata": {
        "id": "DslDO0f8NtI2"
      },
      "source": [
        "integersListRDD.takeOrdered(5, key=lambda x: -x)"
      ],
      "execution_count": null,
      "outputs": []
    },
    {
      "cell_type": "markdown",
      "metadata": {
        "id": "YunCyrJBBxii"
      },
      "source": [
        "## TakeSample"
      ]
    },
    {
      "cell_type": "markdown",
      "metadata": {
        "id": "sZkX85HOEJnY"
      },
      "source": [
        "Obtiene una muestra de n registros con o sin reemplazo."
      ]
    },
    {
      "cell_type": "code",
      "metadata": {
        "id": "R94o47hlN-OG"
      },
      "source": [
        "integersListRDD.takeSample(False, 5)"
      ],
      "execution_count": null,
      "outputs": []
    },
    {
      "cell_type": "markdown",
      "metadata": {
        "id": "gfFmi9hMB0fz"
      },
      "source": [
        "## Reduce"
      ]
    },
    {
      "cell_type": "markdown",
      "metadata": {
        "id": "SZTXTiN6EQ41"
      },
      "source": [
        "Obtiene un solo registro, combinando el resultado en base a una función dada."
      ]
    },
    {
      "cell_type": "markdown",
      "metadata": {
        "id": "uA5TMBcKEkrM"
      },
      "source": [
        "Suma de todos los nros del RDD:"
      ]
    },
    {
      "cell_type": "code",
      "metadata": {
        "id": "w1aRuIdcOG8T"
      },
      "source": [
        "integersListRDD.reduce(lambda a,b: a+b)"
      ],
      "execution_count": null,
      "outputs": []
    },
    {
      "cell_type": "markdown",
      "metadata": {
        "id": "iPldfWT_EnQW"
      },
      "source": [
        "Número más grande del RDD:"
      ]
    },
    {
      "cell_type": "code",
      "metadata": {
        "id": "uoZe4PTeEZU0"
      },
      "source": [
        "integersListRDD.reduce(lambda a,b: a if a > b else b)"
      ],
      "execution_count": null,
      "outputs": []
    },
    {
      "cell_type": "markdown",
      "metadata": {
        "id": "bqtSjN_4B2sY"
      },
      "source": [
        "## CountByKey"
      ]
    },
    {
      "cell_type": "markdown",
      "metadata": {
        "id": "MDx7ZMX2Esdw"
      },
      "source": [
        "Cuenta ocurrencias de registros para cada clave."
      ]
    },
    {
      "cell_type": "markdown",
      "metadata": {
        "id": "sIC-fAW-EziF"
      },
      "source": [
        "En Spark para que un registro sea considerado con clave debe se una tupla de unicamente dos elementos. El primer elemento es la key y el segundo el valor. A su vez, la key y el valor pueden estar compuestos por tuplas."
      ]
    },
    {
      "cell_type": "markdown",
      "metadata": {
        "id": "HioGdGD8FJld"
      },
      "source": [
        "Cuento cuántos nros múltiplo de 2 hay y cuántos no:"
      ]
    },
    {
      "cell_type": "code",
      "metadata": {
        "id": "iMrNtCjlOOvW"
      },
      "source": [
        "integersListRDD.map(lambda x: (x % 2, 1)).countByKey()"
      ],
      "execution_count": null,
      "outputs": []
    },
    {
      "cell_type": "markdown",
      "metadata": {
        "id": "wICWjRrq9LGk"
      },
      "source": [
        "# Transformaciones"
      ]
    },
    {
      "cell_type": "markdown",
      "metadata": {
        "id": "htCboCCE9OxU"
      },
      "source": [
        "### Map"
      ]
    },
    {
      "cell_type": "markdown",
      "metadata": {
        "id": "4Osz4fFVFZkW"
      },
      "source": [
        "Transforma cada registro en base a la función dada."
      ]
    },
    {
      "cell_type": "code",
      "metadata": {
        "id": "-Amp0bYmSG-c"
      },
      "source": [
        "integersListRDD.map(lambda x: x*2).take(5)"
      ],
      "execution_count": null,
      "outputs": []
    },
    {
      "cell_type": "code",
      "metadata": {
        "id": "hM5gotbf9R-W"
      },
      "source": [
        "integersListRDD.map(lambda x: (x % 2, x)).take(5)"
      ],
      "execution_count": null,
      "outputs": []
    },
    {
      "cell_type": "markdown",
      "metadata": {
        "id": "UGGRoh-d9k4P"
      },
      "source": [
        "## Filter"
      ]
    },
    {
      "cell_type": "markdown",
      "metadata": {
        "id": "zQfdye1DF2zO"
      },
      "source": [
        "Filtra registros en base a la función dada."
      ]
    },
    {
      "cell_type": "code",
      "metadata": {
        "id": "S0l43_s89wpW"
      },
      "source": [
        "integersListRDD.filter(lambda x: x % 2 == 0).take(5)"
      ],
      "execution_count": null,
      "outputs": []
    },
    {
      "cell_type": "code",
      "metadata": {
        "id": "vWEZW0D70HWU"
      },
      "source": [
        "integersListRDD.filter(lambda x: x % 2 == 0).count()"
      ],
      "execution_count": null,
      "outputs": []
    },
    {
      "cell_type": "markdown",
      "metadata": {
        "id": "y0ZHNYdO-ExA"
      },
      "source": [
        "## FlatMap"
      ]
    },
    {
      "cell_type": "markdown",
      "metadata": {
        "id": "NHE01zeXGGOK"
      },
      "source": [
        "Similar a Map, pero cada registro puede generar 0, 1 o más registros."
      ]
    },
    {
      "cell_type": "markdown",
      "metadata": {
        "id": "mVQdUOkHGQgl"
      },
      "source": [
        "Para cada registro original genero un nuevo registro con el nro, otro con el nro menos uno y otro con el registro más uno:"
      ]
    },
    {
      "cell_type": "code",
      "metadata": {
        "id": "09N_gedZ-BSu",
        "colab": {
          "base_uri": "https://localhost:8080/",
          "height": 35
        },
        "outputId": "ba8e3b1f-3b54-497e-b35b-c210855576a0"
      },
      "source": [
        "integersFlat = integersListRDD.flatMap(lambda x: [(x), (x-1), (x+1)])\n",
        "integersFlat.count()"
      ],
      "execution_count": null,
      "outputs": [
        {
          "output_type": "execute_result",
          "data": {
            "text/plain": [
              "3000"
            ]
          },
          "metadata": {
            "tags": []
          },
          "execution_count": 19
        }
      ]
    },
    {
      "cell_type": "code",
      "metadata": {
        "id": "2IBp8k-kG8cY"
      },
      "source": [
        "!wget -nc https://raw.githubusercontent.com/brpy/colab-pdf/master/colab_pdf.py\n",
        "from colab_pdf import colab_pdf\n",
        "colab_pdf('Spagk2.ipynb')"
      ],
      "execution_count": null,
      "outputs": []
    },
    {
      "cell_type": "markdown",
      "metadata": {
        "id": "uOJAhi5O-haG"
      },
      "source": [
        "## ReduceByKey"
      ]
    },
    {
      "cell_type": "markdown",
      "metadata": {
        "id": "90kFEtpmGafZ"
      },
      "source": [
        "Combina los registros para una misma clave en base a una función de reduce."
      ]
    },
    {
      "cell_type": "markdown",
      "metadata": {
        "id": "FLUeA__1yVFj"
      },
      "source": [
        "La función de reduce debe ser **conmutativa** y **asociativa**."
      ]
    },
    {
      "cell_type": "markdown",
      "metadata": {
        "id": "PcWSQNr7Gggz"
      },
      "source": [
        "Del RDD salida del flatMap cuento cuantos registros hay para cada nro:"
      ]
    },
    {
      "cell_type": "code",
      "metadata": {
        "id": "5ak--UX3-zLm"
      },
      "source": [
        "integersFlat.map(lambda x: (x, 1)).reduceByKey(lambda a,b: a+b).count()"
      ],
      "execution_count": null,
      "outputs": []
    },
    {
      "cell_type": "code",
      "metadata": {
        "id": "VbH-NuM61Dbb"
      },
      "source": [
        "integersFlat.map(lambda x: (x, 1)).reduceByKey(lambda a,b: a+b).take(10)"
      ],
      "execution_count": null,
      "outputs": []
    },
    {
      "cell_type": "code",
      "metadata": {
        "id": "SwncZCGB1Ind"
      },
      "source": [
        "integersFlat.map(lambda x: (x, 1)).reduceByKey(lambda a,b: a+b).reduce(lambda a,b: a if a > b else b)"
      ],
      "execution_count": null,
      "outputs": []
    },
    {
      "cell_type": "markdown",
      "metadata": {
        "id": "rXS7ZVE4_lDB"
      },
      "source": [
        "## GroupByKey"
      ]
    },
    {
      "cell_type": "markdown",
      "metadata": {
        "id": "qRhtk2zFGr2g"
      },
      "source": [
        "Agrupa los registros para cada clave. Es similar a reduceByKey pero con \n",
        "groupByKey se obtiene todos los registros para cada clave.\n",
        "\n",
        "Solo se debe utilizar si es necesario la información de cada registro y la cantidad de registros por clave no es demasiado grande.\n",
        "\n",
        "GroupByKey es una transformación costosa.\n",
        "\n",
        "Si se desea realizar una agregación, usar reduceByKey. Usar groupByKey para hacer una agregación esta MAL."
      ]
    },
    {
      "cell_type": "markdown",
      "metadata": {
        "id": "XM84FFQbHxcZ"
      },
      "source": [
        "Necesito saber cuales son los nros múltiplos de 2 y cuales no:"
      ]
    },
    {
      "cell_type": "code",
      "metadata": {
        "id": "dXi4mcm0_kFB"
      },
      "source": [
        "integersListRDD.map(lambda x: (x % 2, x)).groupByKey().map(lambda x: (x[0], list(x[1]))).collect().take()"
      ],
      "execution_count": null,
      "outputs": []
    },
    {
      "cell_type": "markdown",
      "metadata": {
        "id": "_URCZ87zAcSj"
      },
      "source": [
        "## Distinct"
      ]
    },
    {
      "cell_type": "markdown",
      "metadata": {
        "id": "vDYgJ-WDIde5"
      },
      "source": [
        "Elimina registros duplicados (todo el registro debe coincidir)"
      ]
    },
    {
      "cell_type": "markdown",
      "metadata": {
        "id": "YcLF3Se1Il4k"
      },
      "source": [
        "Del RDD trás aplicar flatMap, obtengo los registros únicos:"
      ]
    },
    {
      "cell_type": "code",
      "metadata": {
        "id": "AbVHrMYgCv65"
      },
      "source": [
        "integersFlat.distinct().count()\n"
      ],
      "execution_count": null,
      "outputs": []
    },
    {
      "cell_type": "markdown",
      "metadata": {
        "id": "bl2uMtBy-CxH"
      },
      "source": [
        "# Ejemplos de transformaciones y acciones con los textos de Shakespeare"
      ]
    },
    {
      "cell_type": "markdown",
      "metadata": {
        "id": "pSNsuSWUVzjL"
      },
      "source": [
        "## Leo de a líneas"
      ]
    },
    {
      "cell_type": "code",
      "metadata": {
        "id": "XVzGjkUPJm6X"
      },
      "source": [
        "lines = spark.sparkContext.textFile('s.txt')"
      ],
      "execution_count": null,
      "outputs": []
    },
    {
      "cell_type": "markdown",
      "metadata": {
        "id": "FwuDYbFQV3wk"
      },
      "source": [
        "## Cantidad de líneas totales"
      ]
    },
    {
      "cell_type": "code",
      "metadata": {
        "id": "IMydwl-2JoRX",
        "colab": {
          "base_uri": "https://localhost:8080/",
          "height": 35
        },
        "outputId": "6a98240b-f4fd-4599-f52d-d0cee8175e72"
      },
      "source": [
        "lines.count()"
      ],
      "execution_count": null,
      "outputs": [
        {
          "output_type": "execute_result",
          "data": {
            "text/plain": [
              "124614"
            ]
          },
          "metadata": {
            "tags": []
          },
          "execution_count": 8
        }
      ]
    },
    {
      "cell_type": "markdown",
      "metadata": {
        "id": "qZEeqhf_V7eM"
      },
      "source": [
        "## Primeras 10 líneas"
      ]
    },
    {
      "cell_type": "code",
      "metadata": {
        "id": "RQaWh8CnJqlY",
        "colab": {
          "base_uri": "https://localhost:8080/",
          "height": 193
        },
        "outputId": "cd5472f7-a10c-46f6-87fa-d894636e4974"
      },
      "source": [
        "lines.take(10)"
      ],
      "execution_count": null,
      "outputs": [
        {
          "output_type": "execute_result",
          "data": {
            "text/plain": [
              "['1609',\n",
              " '',\n",
              " 'THE SONNETS',\n",
              " '',\n",
              " 'by William Shakespeare',\n",
              " '',\n",
              " '',\n",
              " '',\n",
              " '                     1',\n",
              " '  From fairest creatures we desire increase,']"
            ]
          },
          "metadata": {
            "tags": []
          },
          "execution_count": 24
        }
      ]
    },
    {
      "cell_type": "markdown",
      "metadata": {
        "id": "8vsAsbU7V_h3"
      },
      "source": [
        "## Obtengo las palabras de todas las líneas (flatMap)"
      ]
    },
    {
      "cell_type": "code",
      "metadata": {
        "id": "mOOPFmCh4HBJ"
      },
      "source": [
        "words = lines.flatMap(lambda x: x.split())"
      ],
      "execution_count": null,
      "outputs": []
    },
    {
      "cell_type": "code",
      "metadata": {
        "id": "DoBtYMOkJ4w2",
        "colab": {
          "base_uri": "https://localhost:8080/",
          "height": 193
        },
        "outputId": "6ad6584f-fc51-49e7-ef95-23fed96c47c5"
      },
      "source": [
        "words.take(10)"
      ],
      "execution_count": null,
      "outputs": [
        {
          "output_type": "execute_result",
          "data": {
            "text/plain": [
              "['1609',\n",
              " 'THE',\n",
              " 'SONNETS',\n",
              " 'by',\n",
              " 'William',\n",
              " 'Shakespeare',\n",
              " '1',\n",
              " 'From',\n",
              " 'fairest',\n",
              " 'creatures']"
            ]
          },
          "metadata": {
            "tags": []
          },
          "execution_count": 10
        }
      ]
    },
    {
      "cell_type": "code",
      "metadata": {
        "id": "tRAZmoOzNWgE",
        "colab": {
          "base_uri": "https://localhost:8080/",
          "height": 35
        },
        "outputId": "b2b0af48-33f4-4652-8892-a65b00b65bff"
      },
      "source": [
        "words.count()"
      ],
      "execution_count": null,
      "outputs": [
        {
          "output_type": "execute_result",
          "data": {
            "text/plain": [
              "902892"
            ]
          },
          "metadata": {
            "tags": []
          },
          "execution_count": 11
        }
      ]
    },
    {
      "cell_type": "markdown",
      "metadata": {
        "id": "9M-FlX5DWK0d"
      },
      "source": [
        "## Contando palabras (reduceByKey)"
      ]
    },
    {
      "cell_type": "code",
      "metadata": {
        "id": "ls1O6FLo-IQk"
      },
      "source": [
        "wordsCount = words.map(lambda x: (x.lower(),1))"
      ],
      "execution_count": null,
      "outputs": []
    },
    {
      "cell_type": "code",
      "metadata": {
        "id": "wRgS4oUlKDBT",
        "colab": {
          "base_uri": "https://localhost:8080/",
          "height": 193
        },
        "outputId": "be7f4e55-1b39-4ed5-97b7-b46fa50826e8"
      },
      "source": [
        "wordsCount.take(10)"
      ],
      "execution_count": null,
      "outputs": [
        {
          "output_type": "execute_result",
          "data": {
            "text/plain": [
              "[('1609', 1),\n",
              " ('the', 1),\n",
              " ('sonnets', 1),\n",
              " ('by', 1),\n",
              " ('william', 1),\n",
              " ('shakespeare', 1),\n",
              " ('1', 1),\n",
              " ('from', 1),\n",
              " ('fairest', 1),\n",
              " ('creatures', 1)]"
            ]
          },
          "metadata": {
            "tags": []
          },
          "execution_count": 13
        }
      ]
    },
    {
      "cell_type": "code",
      "metadata": {
        "id": "N6aAGd8UKANh"
      },
      "source": [
        "wordsCounted = wordsCount.reduceByKey(lambda x,y: x+y)"
      ],
      "execution_count": null,
      "outputs": []
    },
    {
      "cell_type": "code",
      "metadata": {
        "id": "hn_lW0hrKr2N",
        "colab": {
          "base_uri": "https://localhost:8080/",
          "height": 193
        },
        "outputId": "f53403d8-9b1e-46aa-bd18-68c32c6fe318"
      },
      "source": [
        "wordsCounted.take(10)"
      ],
      "execution_count": null,
      "outputs": [
        {
          "output_type": "execute_result",
          "data": {
            "text/plain": [
              "[('shakespeare', 258),\n",
              " ('1', 13),\n",
              " ('fairest', 39),\n",
              " ('creatures', 27),\n",
              " ('we', 3210),\n",
              " ('increase,', 9),\n",
              " ('thereby', 21),\n",
              " (\"beauty's\", 30),\n",
              " ('rose', 44),\n",
              " ('never', 959)]"
            ]
          },
          "metadata": {
            "tags": []
          },
          "execution_count": 15
        }
      ]
    },
    {
      "cell_type": "code",
      "metadata": {
        "id": "ahh0On2NKtj1",
        "colab": {
          "base_uri": "https://localhost:8080/",
          "height": 193
        },
        "outputId": "aacc3b2d-8099-46c6-bb4d-a98a7b0b78a1"
      },
      "source": [
        "#wordsCounted.takeOrdered(10, lambda x: -x[1])\n",
        "wordsCounted.takeOrdered(10, lambda x: -x[1])"
      ],
      "execution_count": null,
      "outputs": [
        {
          "output_type": "execute_result",
          "data": {
            "text/plain": [
              "[('the', 27681),\n",
              " ('and', 26066),\n",
              " ('i', 19540),\n",
              " ('to', 18737),\n",
              " ('of', 18084),\n",
              " ('a', 14424),\n",
              " ('my', 12456),\n",
              " ('in', 10721),\n",
              " ('you', 10666),\n",
              " ('that', 10489)]"
            ]
          },
          "metadata": {
            "tags": []
          },
          "execution_count": 19
        }
      ]
    },
    {
      "cell_type": "markdown",
      "metadata": {
        "id": "QPpLRI_iW1zj"
      },
      "source": [
        "### Mal uso de groupByKey"
      ]
    },
    {
      "cell_type": "code",
      "metadata": {
        "id": "j8j0f4cPW5Ct",
        "colab": {
          "base_uri": "https://localhost:8080/",
          "height": 193
        },
        "outputId": "03612583-cade-40b8-f66a-506f5abd60dd"
      },
      "source": [
        "wordsCount.groupByKey().takeOrdered(10, lambda x: -1 * len(x[1]))"
      ],
      "execution_count": null,
      "outputs": [
        {
          "output_type": "execute_result",
          "data": {
            "text/plain": [
              "[('the', <pyspark.resultiterable.ResultIterable at 0x7f78102ae470>),\n",
              " ('and', <pyspark.resultiterable.ResultIterable at 0x7f78102ae978>),\n",
              " ('i', <pyspark.resultiterable.ResultIterable at 0x7f78102ae438>),\n",
              " ('to', <pyspark.resultiterable.ResultIterable at 0x7f78102ae9e8>),\n",
              " ('of', <pyspark.resultiterable.ResultIterable at 0x7f78102ae518>),\n",
              " ('a', <pyspark.resultiterable.ResultIterable at 0x7f78102aea20>),\n",
              " ('my', <pyspark.resultiterable.ResultIterable at 0x7f78102aea90>),\n",
              " ('in', <pyspark.resultiterable.ResultIterable at 0x7f78102ae588>),\n",
              " ('you', <pyspark.resultiterable.ResultIterable at 0x7f78102aeb00>),\n",
              " ('that', <pyspark.resultiterable.ResultIterable at 0x7f78102aeb70>)]"
            ]
          },
          "metadata": {
            "tags": []
          },
          "execution_count": 20
        }
      ]
    },
    {
      "cell_type": "code",
      "metadata": {
        "id": "uOEXpY5D5Pu0"
      },
      "source": [
        "wordsCount.groupByKey().map(lambda a: (a[0], list(a[1]))).take(5)"
      ],
      "execution_count": null,
      "outputs": []
    },
    {
      "cell_type": "code",
      "metadata": {
        "id": "AR1N2D4fXpLn",
        "colab": {
          "base_uri": "https://localhost:8080/",
          "height": 105
        },
        "outputId": "8a3ad323-6f65-49e5-ede6-aad3d9e6665b"
      },
      "source": [
        "wordsCount.groupByKey().filter(lambda x: len(x[1]) < 5).map(lambda a: (a[0], list(a[1]))).take(5)"
      ],
      "execution_count": null,
      "outputs": [
        {
          "output_type": "execute_result",
          "data": {
            "text/plain": [
              "[('riper', [1, 1, 1]),\n",
              " ('memory:', [1]),\n",
              " (\"feed'st\", [1, 1, 1]),\n",
              " (\"light's\", [1]),\n",
              " ('fuel,', [1])]"
            ]
          },
          "metadata": {
            "tags": []
          },
          "execution_count": 21
        }
      ]
    },
    {
      "cell_type": "markdown",
      "metadata": {
        "id": "4QDBwG7ZYVmV"
      },
      "source": [
        "## Palabra más larga (reduce)"
      ]
    },
    {
      "cell_type": "code",
      "metadata": {
        "id": "H-tIGKUtYbeg"
      },
      "source": [
        "words.reduce(lambda a, b: a if (len(a) > len(b)) else b)"
      ],
      "execution_count": null,
      "outputs": []
    },
    {
      "cell_type": "markdown",
      "metadata": {
        "id": "FWyAXyTfYnL2"
      },
      "source": [
        "## Palabras que empiezan con a (filter)"
      ]
    },
    {
      "cell_type": "code",
      "metadata": {
        "id": "lL3AThZsYtcp"
      },
      "source": [
        "wordsA = words.filter(lambda word: word.startswith('a'))"
      ],
      "execution_count": null,
      "outputs": []
    },
    {
      "cell_type": "code",
      "metadata": {
        "id": "UAeEHwp9Y1e9",
        "colab": {
          "base_uri": "https://localhost:8080/",
          "height": 35
        },
        "outputId": "f76ab7df-c307-4c4a-e869-6ad9dc4fd3e3"
      },
      "source": [
        "wordsA.count()"
      ],
      "execution_count": null,
      "outputs": [
        {
          "output_type": "execute_result",
          "data": {
            "text/plain": [
              "63676"
            ]
          },
          "metadata": {
            "tags": []
          },
          "execution_count": 24
        }
      ]
    },
    {
      "cell_type": "code",
      "metadata": {
        "id": "oqR7v7k1Y39H",
        "colab": {
          "base_uri": "https://localhost:8080/",
          "height": 35
        },
        "outputId": "c821593c-06be-4e8a-9415-87c8d8adc335"
      },
      "source": [
        "wordsA.take(10)"
      ],
      "execution_count": null,
      "outputs": [
        {
          "output_type": "execute_result",
          "data": {
            "text/plain": [
              "['as', 'a', 'abundance', 'art', 'and', 'a', 'asked,', 'all', 'all', 'an']"
            ]
          },
          "metadata": {
            "tags": []
          },
          "execution_count": 23
        }
      ]
    },
    {
      "cell_type": "markdown",
      "metadata": {
        "id": "oh21OigvZBRD"
      },
      "source": [
        "## Palabras únicas que empiezan con a (distinct)"
      ]
    },
    {
      "cell_type": "code",
      "metadata": {
        "id": "rI4olhzfZEkV",
        "colab": {
          "base_uri": "https://localhost:8080/",
          "height": 35
        },
        "outputId": "2c16ff0c-49ef-4a4a-c49a-b3bf396d1ba6"
      },
      "source": [
        "wordsA.distinct().count()"
      ],
      "execution_count": null,
      "outputs": [
        {
          "output_type": "execute_result",
          "data": {
            "text/plain": [
              "2688"
            ]
          },
          "metadata": {
            "tags": []
          },
          "execution_count": 25
        }
      ]
    },
    {
      "cell_type": "markdown",
      "metadata": {
        "id": "DpKemb9lZOoa"
      },
      "source": [
        "## Cantidad de palabras por frecuencia de repetición ordenados (sortByKey)"
      ]
    },
    {
      "cell_type": "code",
      "metadata": {
        "id": "f7WAUcp76rvF",
        "colab": {
          "base_uri": "https://localhost:8080/",
          "height": 105
        },
        "outputId": "9256d660-b07e-45ec-90a9-007f75ad9c7c"
      },
      "source": [
        "wordsCounted.take(5)"
      ],
      "execution_count": null,
      "outputs": [
        {
          "output_type": "execute_result",
          "data": {
            "text/plain": [
              "[('shakespeare', 258),\n",
              " ('1', 13),\n",
              " ('fairest', 39),\n",
              " ('creatures', 27),\n",
              " ('we', 3210)]"
            ]
          },
          "metadata": {
            "tags": []
          },
          "execution_count": 26
        }
      ]
    },
    {
      "cell_type": "code",
      "metadata": {
        "id": "txZj8VR1K0MY"
      },
      "source": [
        "wordsFreq = wordsCounted.map(lambda x: (x[1],1))"
      ],
      "execution_count": null,
      "outputs": []
    },
    {
      "cell_type": "code",
      "metadata": {
        "id": "88ZPvuP4LgBt",
        "colab": {
          "base_uri": "https://localhost:8080/",
          "height": 193
        },
        "outputId": "06ffa862-8fb8-436d-b711-5ea14c10866a"
      },
      "source": [
        "wordsFreq.take(10)"
      ],
      "execution_count": null,
      "outputs": [
        {
          "output_type": "execute_result",
          "data": {
            "text/plain": [
              "[(258, 1),\n",
              " (13, 1),\n",
              " (39, 1),\n",
              " (27, 1),\n",
              " (3210, 1),\n",
              " (9, 1),\n",
              " (21, 1),\n",
              " (30, 1),\n",
              " (44, 1),\n",
              " (959, 1)]"
            ]
          },
          "metadata": {
            "tags": []
          },
          "execution_count": 28
        }
      ]
    },
    {
      "cell_type": "code",
      "metadata": {
        "id": "JGd12kyHZdIS"
      },
      "source": [
        "wordsFreq.reduceByKey(lambda a,b: a+b).sortByKey().take(10) # sort es una operacion muy costosa!"
      ],
      "execution_count": null,
      "outputs": []
    },
    {
      "cell_type": "code",
      "metadata": {
        "id": "YhA9tmhZLuZF",
        "colab": {
          "base_uri": "https://localhost:8080/",
          "height": 369
        },
        "outputId": "2116da50-783e-4bc5-c0b8-491ecb1905de"
      },
      "source": [
        "wordsFreq.reduceByKey(lambda a,b: a+b).takeOrdered(20, lambda x: -x[1])"
      ],
      "execution_count": null,
      "outputs": [
        {
          "output_type": "execute_result",
          "data": {
            "text/plain": [
              "[(1, 31072),\n",
              " (2, 8493),\n",
              " (3, 4342),\n",
              " (4, 2659),\n",
              " (5, 1822),\n",
              " (6, 1338),\n",
              " (7, 1053),\n",
              " (8, 779),\n",
              " (9, 700),\n",
              " (10, 549),\n",
              " (11, 514),\n",
              " (12, 391),\n",
              " (13, 371),\n",
              " (14, 305),\n",
              " (15, 285),\n",
              " (17, 255),\n",
              " (16, 248),\n",
              " (18, 200),\n",
              " (21, 179),\n",
              " (20, 169)]"
            ]
          },
          "metadata": {
            "tags": []
          },
          "execution_count": 35
        }
      ]
    },
    {
      "cell_type": "markdown",
      "metadata": {
        "id": "AqrkX2Jh73fR"
      },
      "source": [
        "# Transformaciones entre dos RDD"
      ]
    },
    {
      "cell_type": "markdown",
      "metadata": {
        "id": "legQOraf7-ai"
      },
      "source": [
        "## Union"
      ]
    },
    {
      "cell_type": "markdown",
      "metadata": {
        "id": "F76c0ngp8JhD"
      },
      "source": [
        "Obtiene la unión entre dos RDD."
      ]
    },
    {
      "cell_type": "code",
      "metadata": {
        "id": "FMqSaDhQOA0V",
        "colab": {
          "base_uri": "https://localhost:8080/",
          "height": 35
        },
        "outputId": "31e18e1b-e612-4bce-b516-220296bb1a3b"
      },
      "source": [
        "integersList2 = range(501,1501)\n",
        "len(integersList2)"
      ],
      "execution_count": null,
      "outputs": [
        {
          "output_type": "execute_result",
          "data": {
            "text/plain": [
              "1000"
            ]
          },
          "metadata": {
            "tags": []
          },
          "execution_count": 36
        }
      ]
    },
    {
      "cell_type": "code",
      "metadata": {
        "id": "jDB8R4mp9SxM"
      },
      "source": [
        "integersList2RDD = sc.parallelize(integersList2)"
      ],
      "execution_count": null,
      "outputs": []
    },
    {
      "cell_type": "code",
      "metadata": {
        "id": "D4jCnCS49bot",
        "colab": {
          "base_uri": "https://localhost:8080/",
          "height": 35
        },
        "outputId": "c89b8258-da2d-4d7e-9217-5cb0b6a5b2df"
      },
      "source": [
        "integersList2RDD.count()"
      ],
      "execution_count": null,
      "outputs": [
        {
          "output_type": "execute_result",
          "data": {
            "text/plain": [
              "1000"
            ]
          },
          "metadata": {
            "tags": []
          },
          "execution_count": 38
        }
      ]
    },
    {
      "cell_type": "code",
      "metadata": {
        "id": "jB-WFpLB9dWF",
        "colab": {
          "base_uri": "https://localhost:8080/",
          "height": 35
        },
        "outputId": "bc344d7f-6068-460e-f54b-63a00bde0175"
      },
      "source": [
        "integersListRDD.count()"
      ],
      "execution_count": null,
      "outputs": [
        {
          "output_type": "execute_result",
          "data": {
            "text/plain": [
              "1000"
            ]
          },
          "metadata": {
            "tags": []
          },
          "execution_count": 43
        }
      ]
    },
    {
      "cell_type": "code",
      "metadata": {
        "id": "70C8rrq49lUI"
      },
      "source": [
        "union = integersListRDD.union(integersList2RDD)"
      ],
      "execution_count": null,
      "outputs": []
    },
    {
      "cell_type": "code",
      "metadata": {
        "id": "p9lL1l6g9o8y"
      },
      "source": [
        "union.take(5)"
      ],
      "execution_count": null,
      "outputs": []
    },
    {
      "cell_type": "code",
      "metadata": {
        "id": "cfwo3GW99q0L",
        "colab": {
          "base_uri": "https://localhost:8080/",
          "height": 35
        },
        "outputId": "90cd6e72-250c-4743-9148-342345a8b326"
      },
      "source": [
        "union.count()"
      ],
      "execution_count": null,
      "outputs": [
        {
          "output_type": "execute_result",
          "data": {
            "text/plain": [
              "2000"
            ]
          },
          "metadata": {
            "tags": []
          },
          "execution_count": 45
        }
      ]
    },
    {
      "cell_type": "markdown",
      "metadata": {
        "id": "zJ18HxVP9uSW"
      },
      "source": [
        "## Intersection"
      ]
    },
    {
      "cell_type": "markdown",
      "metadata": {
        "id": "p6bSa4ml93CA"
      },
      "source": [
        "Intersección entre dos RDD."
      ]
    },
    {
      "cell_type": "code",
      "metadata": {
        "id": "ZJO8WJ1D9sEE"
      },
      "source": [
        "intersection = integersListRDD.intersection(integersList2RDD)"
      ],
      "execution_count": null,
      "outputs": []
    },
    {
      "cell_type": "code",
      "metadata": {
        "id": "oQ2IVU3T9-cC",
        "colab": {
          "base_uri": "https://localhost:8080/",
          "height": 35
        },
        "outputId": "87cc34f6-f726-4035-eeb3-b12e591b4822"
      },
      "source": [
        "intersection.count()"
      ],
      "execution_count": null,
      "outputs": [
        {
          "output_type": "execute_result",
          "data": {
            "text/plain": [
              "500"
            ]
          },
          "metadata": {
            "tags": []
          },
          "execution_count": 47
        }
      ]
    },
    {
      "cell_type": "code",
      "metadata": {
        "id": "hZheIKRNjOio",
        "colab": {
          "base_uri": "https://localhost:8080/",
          "height": 35
        },
        "outputId": "95bc8d67-a5a7-4b86-d63c-d5140fd8c4e1"
      },
      "source": [
        "intersection.take(10) # no necesariamente estan ordenados"
      ],
      "execution_count": null,
      "outputs": [
        {
          "output_type": "execute_result",
          "data": {
            "text/plain": [
              "[510, 520, 530, 540, 550, 560, 570, 580, 590, 600]"
            ]
          },
          "metadata": {
            "tags": []
          },
          "execution_count": 48
        }
      ]
    },
    {
      "cell_type": "code",
      "metadata": {
        "id": "buyC_d50jSPQ"
      },
      "source": [
        "intersection.collect() "
      ],
      "execution_count": null,
      "outputs": []
    },
    {
      "cell_type": "markdown",
      "metadata": {
        "id": "28l3dlYxJzyi"
      },
      "source": [
        "## Subtract"
      ]
    },
    {
      "cell_type": "markdown",
      "metadata": {
        "id": "9WbPFo35J3tE"
      },
      "source": [
        "Elimina del primer RDD los registros que aparezcan en el segundo."
      ]
    },
    {
      "cell_type": "code",
      "metadata": {
        "id": "1GLXtqb9J8ev"
      },
      "source": [
        "subtract = integersListRDD.subtract(integersList2RDD)"
      ],
      "execution_count": null,
      "outputs": []
    },
    {
      "cell_type": "code",
      "metadata": {
        "id": "s0zdfroiKHU8",
        "colab": {
          "base_uri": "https://localhost:8080/",
          "height": 35
        },
        "outputId": "9691d6b9-9150-4038-8b2c-ae207503421a"
      },
      "source": [
        "subtract.count()"
      ],
      "execution_count": null,
      "outputs": [
        {
          "output_type": "execute_result",
          "data": {
            "text/plain": [
              "500"
            ]
          },
          "metadata": {
            "tags": []
          },
          "execution_count": 52
        }
      ]
    },
    {
      "cell_type": "code",
      "metadata": {
        "id": "TkIvM1Tijnaz"
      },
      "source": [
        "subtract.collect()"
      ],
      "execution_count": null,
      "outputs": []
    },
    {
      "cell_type": "markdown",
      "metadata": {
        "id": "NnoXBl3q-H2v"
      },
      "source": [
        "## Joins"
      ]
    },
    {
      "cell_type": "markdown",
      "metadata": {
        "id": "5RYUC49k-Jx3"
      },
      "source": [
        "Con los joins se combinan dos RDD en base a las claves de los registros. Junta cada registro del primer RDD con cada registro del segundo RDD que tengan la misma clave. No agrupa, sino que es de a pares de registro."
      ]
    },
    {
      "cell_type": "code",
      "metadata": {
        "id": "WiHtBvLs-ADS"
      },
      "source": [
        "data_alumnos = [\n",
        "  (1,'Damian'),\n",
        "  (2,'Luis'),\n",
        "  (3,'Martin'),\n",
        "  (4,'Natalia'),\n",
        "  (5,'Joaquin')\n",
        "]\n",
        "\n",
        "alumnos = sc.parallelize(data_alumnos)"
      ],
      "execution_count": null,
      "outputs": []
    },
    {
      "cell_type": "code",
      "metadata": {
        "id": "BSEG_YQF-sgz",
        "colab": {
          "base_uri": "https://localhost:8080/",
          "height": 35
        },
        "outputId": "a5e6db3c-e4b5-4fb1-cd4b-b69a2f6faa1b"
      },
      "source": [
        "alumnos.collect()"
      ],
      "execution_count": null,
      "outputs": [
        {
          "output_type": "execute_result",
          "data": {
            "text/plain": [
              "[(1, 'Damian'), (2, 'Luis'), (3, 'Martin'), (4, 'Natalia'), (5, 'Joaquin')]"
            ]
          },
          "metadata": {
            "tags": []
          },
          "execution_count": 54
        }
      ]
    },
    {
      "cell_type": "code",
      "metadata": {
        "id": "UcQnmQOX-v8X"
      },
      "source": [
        "data_materias_aprobadas = [\n",
        "  (1, 'Algebra'),\n",
        "  (2, 'Análisis Matemático'),\n",
        "  (3, 'Análisis Matemático'),\n",
        "  (200, 'Algebra'),\n",
        "  (2, 'Física')\n",
        "]\n",
        "\n",
        "materias_aprobadas = sc.parallelize(data_materias_aprobadas)"
      ],
      "execution_count": null,
      "outputs": []
    },
    {
      "cell_type": "code",
      "metadata": {
        "id": "8DMPmYzl_8HI",
        "colab": {
          "base_uri": "https://localhost:8080/",
          "height": 35
        },
        "outputId": "28bc5195-4e5b-4d2f-c64d-191b043a70bf"
      },
      "source": [
        "materias_aprobadas.collect()"
      ],
      "execution_count": null,
      "outputs": [
        {
          "output_type": "execute_result",
          "data": {
            "text/plain": [
              "[(1, 'Algebra'), (2, 'Análisis Matemático'), (200, 'Algebra'), (2, 'Física')]"
            ]
          },
          "metadata": {
            "tags": []
          },
          "execution_count": 57
        }
      ]
    },
    {
      "cell_type": "markdown",
      "metadata": {
        "id": "TUC97o6nE36O"
      },
      "source": [
        "### Inner Join (Join)"
      ]
    },
    {
      "cell_type": "markdown",
      "metadata": {
        "id": "fII6Z3hAE8_3"
      },
      "source": [
        "Cuando se llama para sets de datos del tipo (K,V) y (K,W) devuelve un set de datos del tipo (K, (V,W)) con todos los pares de elementos para cada key. (especificamente los que hay en comun por esa clave en ambos sets de datos)"
      ]
    },
    {
      "cell_type": "code",
      "metadata": {
        "id": "flekON_1_9dH",
        "colab": {
          "base_uri": "https://localhost:8080/",
          "height": 87
        },
        "outputId": "f60b1e39-3a30-4535-ca72-25703687d18c"
      },
      "source": [
        "alumnos.join(materias_aprobadas).collect()"
      ],
      "execution_count": null,
      "outputs": [
        {
          "output_type": "execute_result",
          "data": {
            "text/plain": [
              "[(1, ('Damian', 'Algebra')),\n",
              " (2, ('Luis', 'Análisis Matemático')),\n",
              " (2, ('Luis', 'Física')),\n",
              " (3, ('Martin', 'Análisis Matemático'))]"
            ]
          },
          "metadata": {
            "tags": []
          },
          "execution_count": 63
        }
      ]
    },
    {
      "cell_type": "markdown",
      "metadata": {
        "id": "5pkgFzBWFE5S"
      },
      "source": [
        "### Left Outer Join"
      ]
    },
    {
      "cell_type": "markdown",
      "metadata": {
        "id": "h7Sd_L-kHLnh"
      },
      "source": [
        "Cuando se llama para sets de datos del tipo (K,V) y (K,W) devuelve un set de datos del tipo (K, (V,W)) asegurandonos que todos los datos del set de datos izquierdo estaran en el resultado del join."
      ]
    },
    {
      "cell_type": "code",
      "metadata": {
        "id": "2e_wWrASFCbH",
        "colab": {
          "base_uri": "https://localhost:8080/",
          "height": 123
        },
        "outputId": "d76e5e99-9b0b-40e2-bec8-c5e8fcb75840"
      },
      "source": [
        "alumnos.leftOuterJoin(materias_aprobadas).collect()"
      ],
      "execution_count": null,
      "outputs": [
        {
          "output_type": "execute_result",
          "data": {
            "text/plain": [
              "[(4, ('Natalia', None)),\n",
              " (1, ('Damian', 'Algebra')),\n",
              " (5, ('Joaquin', None)),\n",
              " (2, ('Luis', 'Análisis Matemático')),\n",
              " (2, ('Luis', 'Física')),\n",
              " (3, ('Martin', 'Análisis Matemático'))]"
            ]
          },
          "metadata": {
            "tags": []
          },
          "execution_count": 64
        }
      ]
    },
    {
      "cell_type": "markdown",
      "metadata": {
        "id": "yL1vuNozHWf2"
      },
      "source": [
        "### Right Outer Join"
      ]
    },
    {
      "cell_type": "markdown",
      "metadata": {
        "id": "JJs-3temHYiM"
      },
      "source": [
        "Cuando se llama para sets de datos del tipo (K,V) y (K,W) devuelve un set de datos del tipo (K, (V,W)) asegurandonos que todos los datos del set de datos derecho estaran en el resultado del join."
      ]
    },
    {
      "cell_type": "code",
      "metadata": {
        "id": "AWgbjDenHRXa",
        "colab": {
          "base_uri": "https://localhost:8080/",
          "height": 105
        },
        "outputId": "59b2a622-6507-4300-9afd-f6c8fbcd3d81"
      },
      "source": [
        "alumnos.rightOuterJoin(materias_aprobadas).collect()"
      ],
      "execution_count": null,
      "outputs": [
        {
          "output_type": "execute_result",
          "data": {
            "text/plain": [
              "[(200, (None, 'Algebra')),\n",
              " (1, ('Damian', 'Algebra')),\n",
              " (2, ('Luis', 'Análisis Matemático')),\n",
              " (2, ('Luis', 'Física')),\n",
              " (3, ('Martin', 'Análisis Matemático'))]"
            ]
          },
          "metadata": {
            "tags": []
          },
          "execution_count": 65
        }
      ]
    },
    {
      "cell_type": "code",
      "metadata": {
        "id": "dlCbzhrvdA_A",
        "colab": {
          "base_uri": "https://localhost:8080/",
          "height": 105
        },
        "outputId": "3c426427-9c55-4f73-ced3-3c83025004ef"
      },
      "source": [
        "materias_aprobadas.leftOuterJoin(alumnos).collect()"
      ],
      "execution_count": null,
      "outputs": [
        {
          "output_type": "execute_result",
          "data": {
            "text/plain": [
              "[(200, ('Algebra', None)),\n",
              " (1, ('Algebra', 'Damian')),\n",
              " (2, ('Análisis Matemático', 'Luis')),\n",
              " (2, ('Física', 'Luis')),\n",
              " (3, ('Análisis Matemático', 'Martin'))]"
            ]
          },
          "metadata": {
            "tags": []
          },
          "execution_count": 66
        }
      ]
    },
    {
      "cell_type": "markdown",
      "metadata": {
        "id": "d5dKB2iQHhZX"
      },
      "source": [
        "### Outer/Full Join"
      ]
    },
    {
      "cell_type": "markdown",
      "metadata": {
        "id": "Ow57N52-HlDu"
      },
      "source": [
        "\n",
        "Cuando se llama para sets de datos del tipo (K,V) y (K,W) devuelve un set de datos del tipo (K, (V,W)) asegurandonos que todos los datos de ambos set de datos estaran aunque no haya match de keys."
      ]
    },
    {
      "cell_type": "code",
      "metadata": {
        "id": "4xUS95vzHdkw",
        "colab": {
          "base_uri": "https://localhost:8080/",
          "height": 140
        },
        "outputId": "c2e6e93f-f685-4a13-8a68-8384601ffdb1"
      },
      "source": [
        "alumnos.fullOuterJoin(materias_aprobadas).collect()"
      ],
      "execution_count": null,
      "outputs": [
        {
          "output_type": "execute_result",
          "data": {
            "text/plain": [
              "[(4, ('Natalia', None)),\n",
              " (200, (None, 'Algebra')),\n",
              " (1, ('Damian', 'Algebra')),\n",
              " (5, ('Joaquin', None)),\n",
              " (2, ('Luis', 'Análisis Matemático')),\n",
              " (2, ('Luis', 'Física')),\n",
              " (3, ('Martin', 'Análisis Matemático'))]"
            ]
          },
          "metadata": {
            "tags": []
          },
          "execution_count": 67
        }
      ]
    },
    {
      "cell_type": "markdown",
      "metadata": {
        "id": "4AieykhPHthx"
      },
      "source": [
        "### Broadcast Join (map-side join)"
      ]
    },
    {
      "cell_type": "markdown",
      "metadata": {
        "id": "ULF_l_PKHvoT"
      },
      "source": [
        "#### Variable Broadcast"
      ]
    },
    {
      "cell_type": "markdown",
      "metadata": {
        "id": "Rm6ouls5H2iG"
      },
      "source": [
        "Una variable Broadcast nos permite mantener una variable solo lectura cacheada en cada una de las maquinas del cluster en vez de enviar esa informacion con cada una de las tareas que se envian al cluster.\n",
        "\n",
        "Esto es particularmente util cuando cuando tareas a partir de multiples etapas (stages) necesitan la misma información o cuando cachear información de forma deserializada es importante.\n",
        "\n",
        "Tener en cuenta que esto **es posible** cuando uno de los data sets o conjunto de datos **es lo suficientemente pequeño para ser broadcasteado a todos los nodos/workers del cluster**."
      ]
    },
    {
      "cell_type": "code",
      "metadata": {
        "id": "c_XZYCyZHpA9"
      },
      "source": [
        "# Vamos a suponer que tenemos un RDD de productos por sus IDs identificando ventas de los mismos\n",
        "prodsList = [1,11,1,4,5,11,2,3,4,5,6,4,5,4,3,2,1,11,2,3,4,5,6,4,3,2,1,1]\n",
        "prods = sc.parallelize(prodsList,3)"
      ],
      "execution_count": null,
      "outputs": []
    },
    {
      "cell_type": "code",
      "metadata": {
        "id": "cqKNAzbUIInc"
      },
      "source": [
        "# Un hash con los productos y sus nombres: este rdd es por lo general acotado y mucho mas chico que el rdd de ventas\n",
        "productNames = {1:'papas',\n",
        "                2:'cebollas',\n",
        "                3:'tomates',\n",
        "                4:'zanahorias',\n",
        "                5:'batatas',\n",
        "                6:'peras',\n",
        "                7:'cilantro',\n",
        "                8:'apio',\n",
        "                9:'morrones',\n",
        "                10:'manzanas',\n",
        "                11:'naranjas'}\n",
        "\n",
        "# Hacemos un broadcast de la variable\n",
        "bproductNames = sc.broadcast(productNames)"
      ],
      "execution_count": null,
      "outputs": []
    },
    {
      "cell_type": "code",
      "metadata": {
        "id": "YbtkGuPuIQVI",
        "colab": {
          "base_uri": "https://localhost:8080/",
          "height": 35
        },
        "outputId": "c522dfb0-dbc0-4409-b8f2-0882883b097b"
      },
      "source": [
        "# Buscamos los productos que se vendieron más de 4 veces\n",
        "popularProds = prods.map(lambda x:(x,1))\\\n",
        "    .reduceByKey(lambda x,y:x+y)\\\n",
        "    .filter(lambda x:x[1]>=4)\n",
        "popularProds.collect()"
      ],
      "execution_count": null,
      "outputs": [
        {
          "output_type": "execute_result",
          "data": {
            "text/plain": [
              "[(3, 4), (1, 5), (4, 6), (5, 4), (2, 4)]"
            ]
          },
          "metadata": {
            "tags": []
          },
          "execution_count": 70
        }
      ]
    },
    {
      "cell_type": "markdown",
      "metadata": {
        "id": "atJ07Q64Idvx"
      },
      "source": [
        "El join se realiza de forma implicita usando un map y dentro del mismo accediendo a la informacion de la variable a la que se realizo el broadcast via .value"
      ]
    },
    {
      "cell_type": "code",
      "metadata": {
        "id": "Rq0QI5QWIWNL",
        "colab": {
          "base_uri": "https://localhost:8080/",
          "height": 105
        },
        "outputId": "09de7e45-25fc-4cb7-d06d-a26dd4173ae1"
      },
      "source": [
        "popularProds = popularProds.map(\n",
        "    lambda x:(bproductNames.value[x[0]],x[0],x[1]))\n",
        "popularProds.collect()"
      ],
      "execution_count": null,
      "outputs": [
        {
          "output_type": "execute_result",
          "data": {
            "text/plain": [
              "[('tomates', 3, 4),\n",
              " ('papas', 1, 5),\n",
              " ('zanahorias', 4, 6),\n",
              " ('batatas', 5, 4),\n",
              " ('cebollas', 2, 4)]"
            ]
          },
          "metadata": {
            "tags": []
          },
          "execution_count": 71
        }
      ]
    },
    {
      "cell_type": "markdown",
      "metadata": {
        "id": "-saIXIYOJJwA"
      },
      "source": [
        "#### Ventajas"
      ]
    },
    {
      "cell_type": "markdown",
      "metadata": {
        "id": "GemDSZwrJSXS"
      },
      "source": [
        "Cuando un valor es \"broadcasteado\" al cluster, este es copiado a los nodos/workers **sólo una vez** (en vez de múltiples veces si la información fuera a enviarse en cada task). De esta forma se resuelve la consulta más rapidamente."
      ]
    },
    {
      "cell_type": "markdown",
      "metadata": {
        "id": "S5T0HkWAN-Iw"
      },
      "source": [
        "# Transformaciones sobre las particiones"
      ]
    },
    {
      "cell_type": "code",
      "metadata": {
        "id": "RopZZdNOJGvQ",
        "colab": {
          "base_uri": "https://localhost:8080/",
          "height": 35
        },
        "outputId": "eb99767c-5167-4798-9ecc-d0936ae2fd12"
      },
      "source": [
        "rdd = sc.parallelize(range(1,11))\n",
        "rdd.getNumPartitions()"
      ],
      "execution_count": null,
      "outputs": [
        {
          "output_type": "execute_result",
          "data": {
            "text/plain": [
              "2"
            ]
          },
          "metadata": {
            "tags": []
          },
          "execution_count": 72
        }
      ]
    },
    {
      "cell_type": "code",
      "metadata": {
        "id": "lnvORFhIOKqk",
        "colab": {
          "base_uri": "https://localhost:8080/",
          "height": 35
        },
        "outputId": "6a1162f8-6c53-4bda-ccaf-41f82ab6e14a"
      },
      "source": [
        "sc.defaultParallelism"
      ],
      "execution_count": null,
      "outputs": [
        {
          "output_type": "execute_result",
          "data": {
            "text/plain": [
              "2"
            ]
          },
          "metadata": {
            "tags": []
          },
          "execution_count": 73
        }
      ]
    },
    {
      "cell_type": "code",
      "metadata": {
        "id": "vt6pb_QhAQOC",
        "colab": {
          "base_uri": "https://localhost:8080/",
          "height": 35
        },
        "outputId": "bc56dcc9-033c-4c8f-a143-ebd76c8db61e"
      },
      "source": [
        "rdd.collect()"
      ],
      "execution_count": null,
      "outputs": [
        {
          "output_type": "execute_result",
          "data": {
            "text/plain": [
              "[1, 2, 3, 4, 5, 6, 7, 8, 9, 10]"
            ]
          },
          "metadata": {
            "tags": []
          },
          "execution_count": 74
        }
      ]
    },
    {
      "cell_type": "markdown",
      "metadata": {
        "id": "Dh3FU26O_zFD"
      },
      "source": [
        ""
      ]
    },
    {
      "cell_type": "markdown",
      "metadata": {
        "id": "jjMa0g_i99y5"
      },
      "source": [
        "## Glom"
      ]
    },
    {
      "cell_type": "markdown",
      "metadata": {
        "id": "cJngJqoI-Uez"
      },
      "source": [
        "Junta los registros de cada partición en una lista."
      ]
    },
    {
      "cell_type": "code",
      "metadata": {
        "id": "J_ONKwAMOPgN",
        "colab": {
          "base_uri": "https://localhost:8080/",
          "height": 35
        },
        "outputId": "fd1e6d2f-ef17-4730-b8ac-4b386faacad4"
      },
      "source": [
        "rdd.glom().collect()"
      ],
      "execution_count": null,
      "outputs": [
        {
          "output_type": "execute_result",
          "data": {
            "text/plain": [
              "[[1, 2, 3, 4, 5], [6, 7, 8, 9, 10]]"
            ]
          },
          "metadata": {
            "tags": []
          },
          "execution_count": 75
        }
      ]
    },
    {
      "cell_type": "markdown",
      "metadata": {
        "id": "JQqRRZf4-sZ3"
      },
      "source": [
        "## MapPartitions"
      ]
    },
    {
      "cell_type": "markdown",
      "metadata": {
        "id": "E6eW2l3O-v_4"
      },
      "source": [
        "Devuelve un nuevo RDD aplicando una función a cada partición del RDD."
      ]
    },
    {
      "cell_type": "code",
      "metadata": {
        "id": "zh8cyhDeOTUX",
        "colab": {
          "base_uri": "https://localhost:8080/",
          "height": 35
        },
        "outputId": "09249703-6d0b-4ccd-8e1b-f84f235c5216"
      },
      "source": [
        "def f(iterator): yield __builtin__.sum(iterator)\n",
        "rdd.mapPartitions(f).collect()"
      ],
      "execution_count": null,
      "outputs": [
        {
          "output_type": "execute_result",
          "data": {
            "text/plain": [
              "[15, 40]"
            ]
          },
          "metadata": {
            "tags": []
          },
          "execution_count": 76
        }
      ]
    },
    {
      "cell_type": "markdown",
      "metadata": {
        "id": "aBW1VMB5RdOr"
      },
      "source": [
        "## Repartition"
      ]
    },
    {
      "cell_type": "markdown",
      "metadata": {
        "id": "svqGE-d7RoSp"
      },
      "source": [
        "Reshuffle los datos en el RDD de forma aleatoria para crear más o menos particiones y balancearlas. \n",
        "\n",
        "Hace un shuffle de todo los datos por la red."
      ]
    },
    {
      "cell_type": "code",
      "metadata": {
        "id": "6mV5EaYhScbs",
        "colab": {
          "base_uri": "https://localhost:8080/",
          "height": 35
        },
        "outputId": "573ea902-789e-46cf-cf5e-31b693adb2c9"
      },
      "source": [
        "rdd = sc.parallelize(range(1,11), 4)\n",
        "rdd.getNumPartitions()"
      ],
      "execution_count": null,
      "outputs": [
        {
          "output_type": "execute_result",
          "data": {
            "text/plain": [
              "4"
            ]
          },
          "metadata": {
            "tags": []
          },
          "execution_count": 77
        }
      ]
    },
    {
      "cell_type": "code",
      "metadata": {
        "id": "DOcEeb93SpmS",
        "colab": {
          "base_uri": "https://localhost:8080/",
          "height": 35
        },
        "outputId": "e42d02d3-d64b-489e-f0f5-52db8f24b18f"
      },
      "source": [
        "rdd.glom().collect()"
      ],
      "execution_count": null,
      "outputs": [
        {
          "output_type": "execute_result",
          "data": {
            "text/plain": [
              "[[1, 2], [3, 4, 5], [6, 7], [8, 9, 10]]"
            ]
          },
          "metadata": {
            "tags": []
          },
          "execution_count": 78
        }
      ]
    },
    {
      "cell_type": "code",
      "metadata": {
        "id": "UIm6FX5fPYzw"
      },
      "source": [
        "rdd2 = rdd.repartition(2)"
      ],
      "execution_count": null,
      "outputs": []
    },
    {
      "cell_type": "code",
      "metadata": {
        "id": "d44SVE6PSH9N",
        "colab": {
          "base_uri": "https://localhost:8080/",
          "height": 35
        },
        "outputId": "7e687ea6-2740-4072-9a1e-645d70220d1c"
      },
      "source": [
        "rdd2.getNumPartitions()"
      ],
      "execution_count": null,
      "outputs": [
        {
          "output_type": "execute_result",
          "data": {
            "text/plain": [
              "2"
            ]
          },
          "metadata": {
            "tags": []
          },
          "execution_count": 80
        }
      ]
    },
    {
      "cell_type": "code",
      "metadata": {
        "id": "txLaGMBXSItl",
        "colab": {
          "base_uri": "https://localhost:8080/",
          "height": 35
        },
        "outputId": "9b58eb21-6bd7-4ad9-99de-790bb6a0f331"
      },
      "source": [
        "rdd2.glom().collect()"
      ],
      "execution_count": null,
      "outputs": [
        {
          "output_type": "execute_result",
          "data": {
            "text/plain": [
              "[[1, 2, 6, 7, 8, 9, 10], [3, 4, 5]]"
            ]
          },
          "metadata": {
            "tags": []
          },
          "execution_count": 81
        }
      ]
    },
    {
      "cell_type": "markdown",
      "metadata": {
        "id": "YX-bJjSOTFXA"
      },
      "source": [
        "Spark no hace shuffle de registros individuales sino de a bloques con un mínimo (no es un problema cuando se manejan grandes cantidades de datos)"
      ]
    },
    {
      "cell_type": "markdown",
      "metadata": {
        "id": "md7oT6F7T-N6"
      },
      "source": [
        "## Coalesce"
      ]
    },
    {
      "cell_type": "markdown",
      "metadata": {
        "id": "-6nPKD5pUK6g"
      },
      "source": [
        "Decrementa la cantidad de particiones del RDD.\n",
        "\n",
        "No hace shuffle por defecto, solo pasa datos de una partición a otra.\n",
        "\n",
        "No quedan balanceadas."
      ]
    },
    {
      "cell_type": "code",
      "metadata": {
        "id": "X5jxQeUUSQZJ"
      },
      "source": [
        "rddCoalesce = rdd.coalesce(2)"
      ],
      "execution_count": null,
      "outputs": []
    },
    {
      "cell_type": "code",
      "metadata": {
        "id": "ijvk00kuUfs1",
        "colab": {
          "base_uri": "https://localhost:8080/",
          "height": 35
        },
        "outputId": "7e20bdf7-d478-47f1-9da1-03c01658ce05"
      },
      "source": [
        "rddCoalesce.glom().collect()"
      ],
      "execution_count": null,
      "outputs": [
        {
          "output_type": "execute_result",
          "data": {
            "text/plain": [
              "[[1, 2, 3, 4, 5], [6, 7, 8, 9, 10]]"
            ]
          },
          "metadata": {
            "tags": []
          },
          "execution_count": 83
        }
      ]
    },
    {
      "cell_type": "markdown",
      "metadata": {
        "id": "VNP1bHnPVCfV"
      },
      "source": [
        "## RepartitionAndSortWithinPartitions"
      ]
    },
    {
      "cell_type": "markdown",
      "metadata": {
        "id": "3i7Du_xtbrwG"
      },
      "source": [
        "Reparticiona un RDD de acuerdo a un particionador y ordena los registros en base a su clave.\n",
        "\n",
        "Los registros deben tener clave.\n",
        "\n",
        "Es más eficiente que hacer un repartition y luego un sort dentro de cada partición ya que realiza el sort en el mismo paso de shuffle."
      ]
    },
    {
      "cell_type": "code",
      "metadata": {
        "id": "fMkGtQYYUjXJ",
        "colab": {
          "base_uri": "https://localhost:8080/",
          "height": 193
        },
        "outputId": "bf9174c4-dab4-4e62-e66d-a97c20d5ab6e"
      },
      "source": [
        "rdd.map(lambda x: (x, x)).collect()"
      ],
      "execution_count": null,
      "outputs": [
        {
          "output_type": "execute_result",
          "data": {
            "text/plain": [
              "[(1, 1),\n",
              " (2, 2),\n",
              " (3, 3),\n",
              " (4, 4),\n",
              " (5, 5),\n",
              " (6, 6),\n",
              " (7, 7),\n",
              " (8, 8),\n",
              " (9, 9),\n",
              " (10, 10)]"
            ]
          },
          "metadata": {
            "tags": []
          },
          "execution_count": 84
        }
      ]
    },
    {
      "cell_type": "code",
      "metadata": {
        "id": "TVPrXSV0XiUe",
        "colab": {
          "base_uri": "https://localhost:8080/",
          "height": 87
        },
        "outputId": "f30587be-6752-4f84-ecdd-1def156998ed"
      },
      "source": [
        "rdd.map(lambda x: (x, x)).glom().collect()"
      ],
      "execution_count": null,
      "outputs": [
        {
          "output_type": "execute_result",
          "data": {
            "text/plain": [
              "[[(1, 1), (2, 2)],\n",
              " [(3, 3), (4, 4), (5, 5)],\n",
              " [(6, 6), (7, 7)],\n",
              " [(8, 8), (9, 9), (10, 10)]]"
            ]
          },
          "metadata": {
            "tags": []
          },
          "execution_count": 85
        }
      ]
    },
    {
      "cell_type": "markdown",
      "metadata": {
        "id": "OKEX0nqDca0X"
      },
      "source": [
        "### Ascending"
      ]
    },
    {
      "cell_type": "code",
      "metadata": {
        "id": "Cy7qnMGKXbBC",
        "colab": {
          "base_uri": "https://localhost:8080/",
          "height": 52
        },
        "outputId": "385d35f4-e514-4ce9-cc7c-51f1ae75d2d4"
      },
      "source": [
        "rdd.map(lambda x: (x, x)).repartitionAndSortWithinPartitions(2).glom().collect()"
      ],
      "execution_count": null,
      "outputs": [
        {
          "output_type": "execute_result",
          "data": {
            "text/plain": [
              "[[(2, 2), (4, 4), (6, 6), (8, 8), (10, 10)],\n",
              " [(1, 1), (3, 3), (5, 5), (7, 7), (9, 9)]]"
            ]
          },
          "metadata": {
            "tags": []
          },
          "execution_count": 86
        }
      ]
    },
    {
      "cell_type": "code",
      "metadata": {
        "id": "9rK68D2aX1fk",
        "colab": {
          "base_uri": "https://localhost:8080/",
          "height": 52
        },
        "outputId": "5daa1825-2f8a-48f7-e083-5981f45a4278"
      },
      "source": [
        "rdd.map(lambda x: (x % 3, x)).repartitionAndSortWithinPartitions(2).glom().collect()"
      ],
      "execution_count": null,
      "outputs": [
        {
          "output_type": "execute_result",
          "data": {
            "text/plain": [
              "[[(0, 3), (0, 6), (0, 9), (2, 2), (2, 5), (2, 8)],\n",
              " [(1, 1), (1, 4), (1, 7), (1, 10)]]"
            ]
          },
          "metadata": {
            "tags": []
          },
          "execution_count": 87
        }
      ]
    },
    {
      "cell_type": "code",
      "metadata": {
        "id": "9smRZScuYD8s",
        "colab": {
          "base_uri": "https://localhost:8080/",
          "height": 52
        },
        "outputId": "af21e396-3f58-43fe-9d42-e05466eeae6e"
      },
      "source": [
        "rdd.map(lambda x: (x % 3, x)).repartitionAndSortWithinPartitions(2, ascending=False).glom().collect()"
      ],
      "execution_count": null,
      "outputs": [
        {
          "output_type": "execute_result",
          "data": {
            "text/plain": [
              "[[(2, 2), (2, 5), (2, 8), (0, 3), (0, 6), (0, 9)],\n",
              " [(1, 1), (1, 4), (1, 7), (1, 10)]]"
            ]
          },
          "metadata": {
            "tags": []
          },
          "execution_count": 88
        }
      ]
    },
    {
      "cell_type": "markdown",
      "metadata": {
        "id": "yUyetYoZceNB"
      },
      "source": [
        "### PartitionFunc"
      ]
    },
    {
      "cell_type": "code",
      "metadata": {
        "id": "-1xwWifQYT9r",
        "colab": {
          "base_uri": "https://localhost:8080/",
          "height": 211
        },
        "outputId": "3baf4534-565b-4092-904f-8aa6e5205a63"
      },
      "source": [
        "rdd.map(lambda x: (x * 2, x)).repartitionAndSortWithinPartitions(2).glom().collect()"
      ],
      "execution_count": null,
      "outputs": [
        {
          "output_type": "execute_result",
          "data": {
            "text/plain": [
              "[[(2, 1),\n",
              "  (4, 2),\n",
              "  (6, 3),\n",
              "  (8, 4),\n",
              "  (10, 5),\n",
              "  (12, 6),\n",
              "  (14, 7),\n",
              "  (16, 8),\n",
              "  (18, 9),\n",
              "  (20, 10)],\n",
              " []]"
            ]
          },
          "metadata": {
            "tags": []
          },
          "execution_count": 89
        }
      ]
    },
    {
      "cell_type": "code",
      "metadata": {
        "id": "oDsh3YFLYmel",
        "colab": {
          "base_uri": "https://localhost:8080/",
          "height": 1000
        },
        "outputId": "1826b9fe-cd15-4407-8b30-712009e32b65"
      },
      "source": [
        "rdd.map(lambda x: (x * 2, x)).repartitionAndSortWithinPartitions(2, partitionFunc=lambda x: (x % 3)).glom().collect()"
      ],
      "execution_count": null,
      "outputs": [
        {
          "output_type": "execute_result",
          "data": {
            "text/plain": [
              "[[(2, 1),\n",
              "  (6, 3),\n",
              "  (8, 4),\n",
              "  (12, 6),\n",
              "  (14, 7),\n",
              "  (18, 9),\n",
              "  (20, 10),\n",
              "  (24, 12),\n",
              "  (26, 13),\n",
              "  (30, 15),\n",
              "  (32, 16),\n",
              "  (36, 18),\n",
              "  (38, 19),\n",
              "  (42, 21),\n",
              "  (44, 22),\n",
              "  (48, 24),\n",
              "  (50, 25),\n",
              "  (54, 27),\n",
              "  (56, 28),\n",
              "  (60, 30),\n",
              "  (62, 31),\n",
              "  (66, 33),\n",
              "  (68, 34),\n",
              "  (72, 36),\n",
              "  (74, 37),\n",
              "  (78, 39),\n",
              "  (80, 40),\n",
              "  (84, 42),\n",
              "  (86, 43),\n",
              "  (90, 45),\n",
              "  (92, 46),\n",
              "  (96, 48),\n",
              "  (98, 49),\n",
              "  (102, 51),\n",
              "  (104, 52),\n",
              "  (108, 54),\n",
              "  (110, 55),\n",
              "  (114, 57),\n",
              "  (116, 58),\n",
              "  (120, 60),\n",
              "  (122, 61),\n",
              "  (126, 63),\n",
              "  (128, 64),\n",
              "  (132, 66),\n",
              "  (134, 67),\n",
              "  (138, 69),\n",
              "  (140, 70),\n",
              "  (144, 72),\n",
              "  (146, 73),\n",
              "  (150, 75),\n",
              "  (152, 76),\n",
              "  (156, 78),\n",
              "  (158, 79),\n",
              "  (162, 81),\n",
              "  (164, 82),\n",
              "  (168, 84),\n",
              "  (170, 85),\n",
              "  (174, 87),\n",
              "  (176, 88),\n",
              "  (180, 90),\n",
              "  (182, 91),\n",
              "  (186, 93),\n",
              "  (188, 94),\n",
              "  (192, 96),\n",
              "  (194, 97),\n",
              "  (198, 99),\n",
              "  (200, 100),\n",
              "  (204, 102),\n",
              "  (206, 103),\n",
              "  (210, 105),\n",
              "  (212, 106),\n",
              "  (216, 108),\n",
              "  (218, 109),\n",
              "  (222, 111),\n",
              "  (224, 112),\n",
              "  (228, 114),\n",
              "  (230, 115),\n",
              "  (234, 117),\n",
              "  (236, 118),\n",
              "  (240, 120),\n",
              "  (242, 121),\n",
              "  (246, 123),\n",
              "  (248, 124),\n",
              "  (252, 126),\n",
              "  (254, 127),\n",
              "  (258, 129),\n",
              "  (260, 130),\n",
              "  (264, 132),\n",
              "  (266, 133),\n",
              "  (270, 135),\n",
              "  (272, 136),\n",
              "  (276, 138),\n",
              "  (278, 139),\n",
              "  (282, 141),\n",
              "  (284, 142),\n",
              "  (288, 144),\n",
              "  (290, 145),\n",
              "  (294, 147),\n",
              "  (296, 148),\n",
              "  (300, 150),\n",
              "  (302, 151),\n",
              "  (306, 153),\n",
              "  (308, 154),\n",
              "  (312, 156),\n",
              "  (314, 157),\n",
              "  (318, 159),\n",
              "  (320, 160),\n",
              "  (324, 162),\n",
              "  (326, 163),\n",
              "  (330, 165),\n",
              "  (332, 166),\n",
              "  (336, 168),\n",
              "  (338, 169),\n",
              "  (342, 171),\n",
              "  (344, 172),\n",
              "  (348, 174),\n",
              "  (350, 175),\n",
              "  (354, 177),\n",
              "  (356, 178),\n",
              "  (360, 180),\n",
              "  (362, 181),\n",
              "  (366, 183),\n",
              "  (368, 184),\n",
              "  (372, 186),\n",
              "  (374, 187),\n",
              "  (378, 189),\n",
              "  (380, 190),\n",
              "  (384, 192),\n",
              "  (386, 193),\n",
              "  (390, 195),\n",
              "  (392, 196),\n",
              "  (396, 198),\n",
              "  (398, 199),\n",
              "  (402, 201),\n",
              "  (404, 202),\n",
              "  (408, 204),\n",
              "  (410, 205),\n",
              "  (414, 207),\n",
              "  (416, 208),\n",
              "  (420, 210),\n",
              "  (422, 211),\n",
              "  (426, 213),\n",
              "  (428, 214),\n",
              "  (432, 216),\n",
              "  (434, 217),\n",
              "  (438, 219),\n",
              "  (440, 220),\n",
              "  (444, 222),\n",
              "  (446, 223),\n",
              "  (450, 225),\n",
              "  (452, 226),\n",
              "  (456, 228),\n",
              "  (458, 229),\n",
              "  (462, 231),\n",
              "  (464, 232),\n",
              "  (468, 234),\n",
              "  (470, 235),\n",
              "  (474, 237),\n",
              "  (476, 238),\n",
              "  (480, 240),\n",
              "  (482, 241),\n",
              "  (486, 243),\n",
              "  (488, 244),\n",
              "  (492, 246),\n",
              "  (494, 247),\n",
              "  (498, 249),\n",
              "  (500, 250),\n",
              "  (504, 252),\n",
              "  (506, 253),\n",
              "  (510, 255),\n",
              "  (512, 256),\n",
              "  (516, 258),\n",
              "  (518, 259),\n",
              "  (522, 261),\n",
              "  (524, 262),\n",
              "  (528, 264),\n",
              "  (530, 265),\n",
              "  (534, 267),\n",
              "  (536, 268),\n",
              "  (540, 270),\n",
              "  (542, 271),\n",
              "  (546, 273),\n",
              "  (548, 274),\n",
              "  (552, 276),\n",
              "  (554, 277),\n",
              "  (558, 279),\n",
              "  (560, 280),\n",
              "  (564, 282),\n",
              "  (566, 283),\n",
              "  (570, 285),\n",
              "  (572, 286),\n",
              "  (576, 288),\n",
              "  (578, 289),\n",
              "  (582, 291),\n",
              "  (584, 292),\n",
              "  (588, 294),\n",
              "  (590, 295),\n",
              "  (594, 297),\n",
              "  (596, 298),\n",
              "  (600, 300),\n",
              "  (602, 301),\n",
              "  (606, 303),\n",
              "  (608, 304),\n",
              "  (612, 306),\n",
              "  (614, 307),\n",
              "  (618, 309),\n",
              "  (620, 310),\n",
              "  (624, 312),\n",
              "  (626, 313),\n",
              "  (630, 315),\n",
              "  (632, 316),\n",
              "  (636, 318),\n",
              "  (638, 319),\n",
              "  (642, 321),\n",
              "  (644, 322),\n",
              "  (648, 324),\n",
              "  (650, 325),\n",
              "  (654, 327),\n",
              "  (656, 328),\n",
              "  (660, 330),\n",
              "  (662, 331),\n",
              "  (666, 333),\n",
              "  (668, 334),\n",
              "  (672, 336),\n",
              "  (674, 337),\n",
              "  (678, 339),\n",
              "  (680, 340),\n",
              "  (684, 342),\n",
              "  (686, 343),\n",
              "  (690, 345),\n",
              "  (692, 346),\n",
              "  (696, 348),\n",
              "  (698, 349),\n",
              "  (702, 351),\n",
              "  (704, 352),\n",
              "  (708, 354),\n",
              "  (710, 355),\n",
              "  (714, 357),\n",
              "  (716, 358),\n",
              "  (720, 360),\n",
              "  (722, 361),\n",
              "  (726, 363),\n",
              "  (728, 364),\n",
              "  (732, 366),\n",
              "  (734, 367),\n",
              "  (738, 369),\n",
              "  (740, 370),\n",
              "  (744, 372),\n",
              "  (746, 373),\n",
              "  (750, 375),\n",
              "  (752, 376),\n",
              "  (756, 378),\n",
              "  (758, 379),\n",
              "  (762, 381),\n",
              "  (764, 382),\n",
              "  (768, 384),\n",
              "  (770, 385),\n",
              "  (774, 387),\n",
              "  (776, 388),\n",
              "  (780, 390),\n",
              "  (782, 391),\n",
              "  (786, 393),\n",
              "  (788, 394),\n",
              "  (792, 396),\n",
              "  (794, 397),\n",
              "  (798, 399),\n",
              "  (800, 400),\n",
              "  (804, 402),\n",
              "  (806, 403),\n",
              "  (810, 405),\n",
              "  (812, 406),\n",
              "  (816, 408),\n",
              "  (818, 409),\n",
              "  (822, 411),\n",
              "  (824, 412),\n",
              "  (828, 414),\n",
              "  (830, 415),\n",
              "  (834, 417),\n",
              "  (836, 418),\n",
              "  (840, 420),\n",
              "  (842, 421),\n",
              "  (846, 423),\n",
              "  (848, 424),\n",
              "  (852, 426),\n",
              "  (854, 427),\n",
              "  (858, 429),\n",
              "  (860, 430),\n",
              "  (864, 432),\n",
              "  (866, 433),\n",
              "  (870, 435),\n",
              "  (872, 436),\n",
              "  (876, 438),\n",
              "  (878, 439),\n",
              "  (882, 441),\n",
              "  (884, 442),\n",
              "  (888, 444),\n",
              "  (890, 445),\n",
              "  (894, 447),\n",
              "  (896, 448),\n",
              "  (900, 450),\n",
              "  (902, 451),\n",
              "  (906, 453),\n",
              "  (908, 454),\n",
              "  (912, 456),\n",
              "  (914, 457),\n",
              "  (918, 459),\n",
              "  (920, 460),\n",
              "  (924, 462),\n",
              "  (926, 463),\n",
              "  (930, 465),\n",
              "  (932, 466),\n",
              "  (936, 468),\n",
              "  (938, 469),\n",
              "  (942, 471),\n",
              "  (944, 472),\n",
              "  (948, 474),\n",
              "  (950, 475),\n",
              "  (954, 477),\n",
              "  (956, 478),\n",
              "  (960, 480),\n",
              "  (962, 481),\n",
              "  (966, 483),\n",
              "  (968, 484),\n",
              "  (972, 486),\n",
              "  (974, 487),\n",
              "  (978, 489),\n",
              "  (980, 490),\n",
              "  (984, 492),\n",
              "  (986, 493),\n",
              "  (990, 495),\n",
              "  (992, 496),\n",
              "  (996, 498),\n",
              "  (998, 499),\n",
              "  (1002, 501),\n",
              "  (1004, 502),\n",
              "  (1008, 504),\n",
              "  (1010, 505),\n",
              "  (1014, 507),\n",
              "  (1016, 508),\n",
              "  (1020, 510),\n",
              "  (1022, 511),\n",
              "  (1026, 513),\n",
              "  (1028, 514),\n",
              "  (1032, 516),\n",
              "  (1034, 517),\n",
              "  (1038, 519),\n",
              "  (1040, 520),\n",
              "  (1044, 522),\n",
              "  (1046, 523),\n",
              "  (1050, 525),\n",
              "  (1052, 526),\n",
              "  (1056, 528),\n",
              "  (1058, 529),\n",
              "  (1062, 531),\n",
              "  (1064, 532),\n",
              "  (1068, 534),\n",
              "  (1070, 535),\n",
              "  (1074, 537),\n",
              "  (1076, 538),\n",
              "  (1080, 540),\n",
              "  (1082, 541),\n",
              "  (1086, 543),\n",
              "  (1088, 544),\n",
              "  (1092, 546),\n",
              "  (1094, 547),\n",
              "  (1098, 549),\n",
              "  (1100, 550),\n",
              "  (1104, 552),\n",
              "  (1106, 553),\n",
              "  (1110, 555),\n",
              "  (1112, 556),\n",
              "  (1116, 558),\n",
              "  (1118, 559),\n",
              "  (1122, 561),\n",
              "  (1124, 562),\n",
              "  (1128, 564),\n",
              "  (1130, 565),\n",
              "  (1134, 567),\n",
              "  (1136, 568),\n",
              "  (1140, 570),\n",
              "  (1142, 571),\n",
              "  (1146, 573),\n",
              "  (1148, 574),\n",
              "  (1152, 576),\n",
              "  (1154, 577),\n",
              "  (1158, 579),\n",
              "  (1160, 580),\n",
              "  (1164, 582),\n",
              "  (1166, 583),\n",
              "  (1170, 585),\n",
              "  (1172, 586),\n",
              "  (1176, 588),\n",
              "  (1178, 589),\n",
              "  (1182, 591),\n",
              "  (1184, 592),\n",
              "  (1188, 594),\n",
              "  (1190, 595),\n",
              "  (1194, 597),\n",
              "  (1196, 598),\n",
              "  (1200, 600),\n",
              "  (1202, 601),\n",
              "  (1206, 603),\n",
              "  (1208, 604),\n",
              "  (1212, 606),\n",
              "  (1214, 607),\n",
              "  (1218, 609),\n",
              "  (1220, 610),\n",
              "  (1224, 612),\n",
              "  (1226, 613),\n",
              "  (1230, 615),\n",
              "  (1232, 616),\n",
              "  (1236, 618),\n",
              "  (1238, 619),\n",
              "  (1242, 621),\n",
              "  (1244, 622),\n",
              "  (1248, 624),\n",
              "  (1250, 625),\n",
              "  (1254, 627),\n",
              "  (1256, 628),\n",
              "  (1260, 630),\n",
              "  (1262, 631),\n",
              "  (1266, 633),\n",
              "  (1268, 634),\n",
              "  (1272, 636),\n",
              "  (1274, 637),\n",
              "  (1278, 639),\n",
              "  (1280, 640),\n",
              "  (1284, 642),\n",
              "  (1286, 643),\n",
              "  (1290, 645),\n",
              "  (1292, 646),\n",
              "  (1296, 648),\n",
              "  (1298, 649),\n",
              "  (1302, 651),\n",
              "  (1304, 652),\n",
              "  (1308, 654),\n",
              "  (1310, 655),\n",
              "  (1314, 657),\n",
              "  (1316, 658),\n",
              "  (1320, 660),\n",
              "  (1322, 661),\n",
              "  (1326, 663),\n",
              "  (1328, 664),\n",
              "  (1332, 666),\n",
              "  (1334, 667),\n",
              "  (1338, 669),\n",
              "  (1340, 670),\n",
              "  (1344, 672),\n",
              "  (1346, 673),\n",
              "  (1350, 675),\n",
              "  (1352, 676),\n",
              "  (1356, 678),\n",
              "  (1358, 679),\n",
              "  (1362, 681),\n",
              "  (1364, 682),\n",
              "  (1368, 684),\n",
              "  (1370, 685),\n",
              "  (1374, 687),\n",
              "  (1376, 688),\n",
              "  (1380, 690),\n",
              "  (1382, 691),\n",
              "  (1386, 693),\n",
              "  (1388, 694),\n",
              "  (1392, 696),\n",
              "  (1394, 697),\n",
              "  (1398, 699),\n",
              "  (1400, 700),\n",
              "  (1404, 702),\n",
              "  (1406, 703),\n",
              "  (1410, 705),\n",
              "  (1412, 706),\n",
              "  (1416, 708),\n",
              "  (1418, 709),\n",
              "  (1422, 711),\n",
              "  (1424, 712),\n",
              "  (1428, 714),\n",
              "  (1430, 715),\n",
              "  (1434, 717),\n",
              "  (1436, 718),\n",
              "  (1440, 720),\n",
              "  (1442, 721),\n",
              "  (1446, 723),\n",
              "  (1448, 724),\n",
              "  (1452, 726),\n",
              "  (1454, 727),\n",
              "  (1458, 729),\n",
              "  (1460, 730),\n",
              "  (1464, 732),\n",
              "  (1466, 733),\n",
              "  (1470, 735),\n",
              "  (1472, 736),\n",
              "  (1476, 738),\n",
              "  (1478, 739),\n",
              "  (1482, 741),\n",
              "  (1484, 742),\n",
              "  (1488, 744),\n",
              "  (1490, 745),\n",
              "  (1494, 747),\n",
              "  (1496, 748),\n",
              "  (1500, 750),\n",
              "  (1502, 751),\n",
              "  (1506, 753),\n",
              "  (1508, 754),\n",
              "  (1512, 756),\n",
              "  (1514, 757),\n",
              "  (1518, 759),\n",
              "  (1520, 760),\n",
              "  (1524, 762),\n",
              "  (1526, 763),\n",
              "  (1530, 765),\n",
              "  (1532, 766),\n",
              "  (1536, 768),\n",
              "  (1538, 769),\n",
              "  (1542, 771),\n",
              "  (1544, 772),\n",
              "  (1548, 774),\n",
              "  (1550, 775),\n",
              "  (1554, 777),\n",
              "  (1556, 778),\n",
              "  (1560, 780),\n",
              "  (1562, 781),\n",
              "  (1566, 783),\n",
              "  (1568, 784),\n",
              "  (1572, 786),\n",
              "  (1574, 787),\n",
              "  (1578, 789),\n",
              "  (1580, 790),\n",
              "  (1584, 792),\n",
              "  (1586, 793),\n",
              "  (1590, 795),\n",
              "  (1592, 796),\n",
              "  (1596, 798),\n",
              "  (1598, 799),\n",
              "  (1602, 801),\n",
              "  (1604, 802),\n",
              "  (1608, 804),\n",
              "  (1610, 805),\n",
              "  (1614, 807),\n",
              "  (1616, 808),\n",
              "  (1620, 810),\n",
              "  (1622, 811),\n",
              "  (1626, 813),\n",
              "  (1628, 814),\n",
              "  (1632, 816),\n",
              "  (1634, 817),\n",
              "  (1638, 819),\n",
              "  (1640, 820),\n",
              "  (1644, 822),\n",
              "  (1646, 823),\n",
              "  (1650, 825),\n",
              "  (1652, 826),\n",
              "  (1656, 828),\n",
              "  (1658, 829),\n",
              "  (1662, 831),\n",
              "  (1664, 832),\n",
              "  (1668, 834),\n",
              "  (1670, 835),\n",
              "  (1674, 837),\n",
              "  (1676, 838),\n",
              "  (1680, 840),\n",
              "  (1682, 841),\n",
              "  (1686, 843),\n",
              "  (1688, 844),\n",
              "  (1692, 846),\n",
              "  (1694, 847),\n",
              "  (1698, 849),\n",
              "  (1700, 850),\n",
              "  (1704, 852),\n",
              "  (1706, 853),\n",
              "  (1710, 855),\n",
              "  (1712, 856),\n",
              "  (1716, 858),\n",
              "  (1718, 859),\n",
              "  (1722, 861),\n",
              "  (1724, 862),\n",
              "  (1728, 864),\n",
              "  (1730, 865),\n",
              "  (1734, 867),\n",
              "  (1736, 868),\n",
              "  (1740, 870),\n",
              "  (1742, 871),\n",
              "  (1746, 873),\n",
              "  (1748, 874),\n",
              "  (1752, 876),\n",
              "  (1754, 877),\n",
              "  (1758, 879),\n",
              "  (1760, 880),\n",
              "  (1764, 882),\n",
              "  (1766, 883),\n",
              "  (1770, 885),\n",
              "  (1772, 886),\n",
              "  (1776, 888),\n",
              "  (1778, 889),\n",
              "  (1782, 891),\n",
              "  (1784, 892),\n",
              "  (1788, 894),\n",
              "  (1790, 895),\n",
              "  (1794, 897),\n",
              "  (1796, 898),\n",
              "  (1800, 900),\n",
              "  (1802, 901),\n",
              "  (1806, 903),\n",
              "  (1808, 904),\n",
              "  (1812, 906),\n",
              "  (1814, 907),\n",
              "  (1818, 909),\n",
              "  (1820, 910),\n",
              "  (1824, 912),\n",
              "  (1826, 913),\n",
              "  (1830, 915),\n",
              "  (1832, 916),\n",
              "  (1836, 918),\n",
              "  (1838, 919),\n",
              "  (1842, 921),\n",
              "  (1844, 922),\n",
              "  (1848, 924),\n",
              "  (1850, 925),\n",
              "  (1854, 927),\n",
              "  (1856, 928),\n",
              "  (1860, 930),\n",
              "  (1862, 931),\n",
              "  (1866, 933),\n",
              "  (1868, 934),\n",
              "  (1872, 936),\n",
              "  (1874, 937),\n",
              "  (1878, 939),\n",
              "  (1880, 940),\n",
              "  (1884, 942),\n",
              "  (1886, 943),\n",
              "  (1890, 945),\n",
              "  (1892, 946),\n",
              "  (1896, 948),\n",
              "  (1898, 949),\n",
              "  (1902, 951),\n",
              "  (1904, 952),\n",
              "  (1908, 954),\n",
              "  (1910, 955),\n",
              "  (1914, 957),\n",
              "  (1916, 958),\n",
              "  (1920, 960),\n",
              "  (1922, 961),\n",
              "  (1926, 963),\n",
              "  (1928, 964),\n",
              "  (1932, 966),\n",
              "  (1934, 967),\n",
              "  (1938, 969),\n",
              "  (1940, 970),\n",
              "  (1944, 972),\n",
              "  (1946, 973),\n",
              "  (1950, 975),\n",
              "  (1952, 976),\n",
              "  (1956, 978),\n",
              "  (1958, 979),\n",
              "  (1962, 981),\n",
              "  (1964, 982),\n",
              "  (1968, 984),\n",
              "  (1970, 985),\n",
              "  (1974, 987),\n",
              "  (1976, 988),\n",
              "  (1980, 990),\n",
              "  (1982, 991),\n",
              "  (1986, 993),\n",
              "  (1988, 994),\n",
              "  (1992, 996),\n",
              "  (1994, 997),\n",
              "  (1998, 999),\n",
              "  (2000, 1000),\n",
              "  (2004, 1002),\n",
              "  (2006, 1003),\n",
              "  (2010, 1005),\n",
              "  (2012, 1006),\n",
              "  (2016, 1008),\n",
              "  (2018, 1009),\n",
              "  (2022, 1011),\n",
              "  (2024, 1012),\n",
              "  (2028, 1014),\n",
              "  (2030, 1015),\n",
              "  (2034, 1017),\n",
              "  (2036, 1018),\n",
              "  (2040, 1020),\n",
              "  (2042, 1021),\n",
              "  (2046, 1023),\n",
              "  (2048, 1024),\n",
              "  (2052, 1026),\n",
              "  (2054, 1027),\n",
              "  (2058, 1029),\n",
              "  (2060, 1030),\n",
              "  (2064, 1032),\n",
              "  (2066, 1033),\n",
              "  (2070, 1035),\n",
              "  (2072, 1036),\n",
              "  (2076, 1038),\n",
              "  (2078, 1039),\n",
              "  (2082, 1041),\n",
              "  (2084, 1042),\n",
              "  (2088, 1044),\n",
              "  (2090, 1045),\n",
              "  (2094, 1047),\n",
              "  (2096, 1048),\n",
              "  (2100, 1050),\n",
              "  (2102, 1051),\n",
              "  (2106, 1053),\n",
              "  (2108, 1054),\n",
              "  (2112, 1056),\n",
              "  (2114, 1057),\n",
              "  (2118, 1059),\n",
              "  (2120, 1060),\n",
              "  (2124, 1062),\n",
              "  (2126, 1063),\n",
              "  (2130, 1065),\n",
              "  (2132, 1066),\n",
              "  (2136, 1068),\n",
              "  (2138, 1069),\n",
              "  (2142, 1071),\n",
              "  (2144, 1072),\n",
              "  (2148, 1074),\n",
              "  (2150, 1075),\n",
              "  (2154, 1077),\n",
              "  (2156, 1078),\n",
              "  (2160, 1080),\n",
              "  (2162, 1081),\n",
              "  (2166, 1083),\n",
              "  (2168, 1084),\n",
              "  (2172, 1086),\n",
              "  (2174, 1087),\n",
              "  (2178, 1089),\n",
              "  (2180, 1090),\n",
              "  (2184, 1092),\n",
              "  (2186, 1093),\n",
              "  (2190, 1095),\n",
              "  (2192, 1096),\n",
              "  (2196, 1098),\n",
              "  (2198, 1099),\n",
              "  (2202, 1101),\n",
              "  (2204, 1102),\n",
              "  (2208, 1104),\n",
              "  (2210, 1105),\n",
              "  (2214, 1107),\n",
              "  (2216, 1108),\n",
              "  (2220, 1110),\n",
              "  (2222, 1111),\n",
              "  (2226, 1113),\n",
              "  (2228, 1114),\n",
              "  (2232, 1116),\n",
              "  (2234, 1117),\n",
              "  (2238, 1119),\n",
              "  (2240, 1120),\n",
              "  (2244, 1122),\n",
              "  (2246, 1123),\n",
              "  (2250, 1125),\n",
              "  (2252, 1126),\n",
              "  (2256, 1128),\n",
              "  (2258, 1129),\n",
              "  (2262, 1131),\n",
              "  (2264, 1132),\n",
              "  (2268, 1134),\n",
              "  (2270, 1135),\n",
              "  (2274, 1137),\n",
              "  (2276, 1138),\n",
              "  (2280, 1140),\n",
              "  (2282, 1141),\n",
              "  (2286, 1143),\n",
              "  (2288, 1144),\n",
              "  (2292, 1146),\n",
              "  (2294, 1147),\n",
              "  (2298, 1149),\n",
              "  (2300, 1150),\n",
              "  (2304, 1152),\n",
              "  (2306, 1153),\n",
              "  (2310, 1155),\n",
              "  (2312, 1156),\n",
              "  (2316, 1158),\n",
              "  (2318, 1159),\n",
              "  (2322, 1161),\n",
              "  (2324, 1162),\n",
              "  (2328, 1164),\n",
              "  (2330, 1165),\n",
              "  (2334, 1167),\n",
              "  (2336, 1168),\n",
              "  (2340, 1170),\n",
              "  (2342, 1171),\n",
              "  (2346, 1173),\n",
              "  (2348, 1174),\n",
              "  (2352, 1176),\n",
              "  (2354, 1177),\n",
              "  (2358, 1179),\n",
              "  (2360, 1180),\n",
              "  (2364, 1182),\n",
              "  (2366, 1183),\n",
              "  (2370, 1185),\n",
              "  (2372, 1186),\n",
              "  (2376, 1188),\n",
              "  (2378, 1189),\n",
              "  (2382, 1191),\n",
              "  (2384, 1192),\n",
              "  (2388, 1194),\n",
              "  (2390, 1195),\n",
              "  (2394, 1197),\n",
              "  (2396, 1198),\n",
              "  (2400, 1200),\n",
              "  (2402, 1201),\n",
              "  (2406, 1203),\n",
              "  (2408, 1204),\n",
              "  (2412, 1206),\n",
              "  (2414, 1207),\n",
              "  (2418, 1209),\n",
              "  (2420, 1210),\n",
              "  (2424, 1212),\n",
              "  (2426, 1213),\n",
              "  (2430, 1215),\n",
              "  (2432, 1216),\n",
              "  (2436, 1218),\n",
              "  (2438, 1219),\n",
              "  (2442, 1221),\n",
              "  (2444, 1222),\n",
              "  (2448, 1224),\n",
              "  (2450, 1225),\n",
              "  (2454, 1227),\n",
              "  (2456, 1228),\n",
              "  (2460, 1230),\n",
              "  (2462, 1231),\n",
              "  (2466, 1233),\n",
              "  (2468, 1234),\n",
              "  (2472, 1236),\n",
              "  (2474, 1237),\n",
              "  (2478, 1239),\n",
              "  (2480, 1240),\n",
              "  (2484, 1242),\n",
              "  (2486, 1243),\n",
              "  (2490, 1245),\n",
              "  (2492, 1246),\n",
              "  (2496, 1248),\n",
              "  (2498, 1249),\n",
              "  (2502, 1251),\n",
              "  (2504, 1252),\n",
              "  (2508, 1254),\n",
              "  (2510, 1255),\n",
              "  (2514, 1257),\n",
              "  (2516, 1258),\n",
              "  (2520, 1260),\n",
              "  (2522, 1261),\n",
              "  (2526, 1263),\n",
              "  (2528, 1264),\n",
              "  (2532, 1266),\n",
              "  (2534, 1267),\n",
              "  (2538, 1269),\n",
              "  (2540, 1270),\n",
              "  (2544, 1272),\n",
              "  (2546, 1273),\n",
              "  (2550, 1275),\n",
              "  (2552, 1276),\n",
              "  (2556, 1278),\n",
              "  (2558, 1279),\n",
              "  (2562, 1281),\n",
              "  (2564, 1282),\n",
              "  (2568, 1284),\n",
              "  (2570, 1285),\n",
              "  (2574, 1287),\n",
              "  (2576, 1288),\n",
              "  (2580, 1290),\n",
              "  (2582, 1291),\n",
              "  (2586, 1293),\n",
              "  (2588, 1294),\n",
              "  (2592, 1296),\n",
              "  (2594, 1297),\n",
              "  (2598, 1299),\n",
              "  (2600, 1300),\n",
              "  (2604, 1302),\n",
              "  (2606, 1303),\n",
              "  (2610, 1305),\n",
              "  (2612, 1306),\n",
              "  (2616, 1308),\n",
              "  (2618, 1309),\n",
              "  (2622, 1311),\n",
              "  (2624, 1312),\n",
              "  (2628, 1314),\n",
              "  (2630, 1315),\n",
              "  (2634, 1317),\n",
              "  (2636, 1318),\n",
              "  (2640, 1320),\n",
              "  (2642, 1321),\n",
              "  (2646, 1323),\n",
              "  (2648, 1324),\n",
              "  (2652, 1326),\n",
              "  (2654, 1327),\n",
              "  (2658, 1329),\n",
              "  (2660, 1330),\n",
              "  (2664, 1332),\n",
              "  (2666, 1333),\n",
              "  (2670, 1335),\n",
              "  (2672, 1336),\n",
              "  (2676, 1338),\n",
              "  (2678, 1339),\n",
              "  (2682, 1341),\n",
              "  (2684, 1342),\n",
              "  (2688, 1344),\n",
              "  (2690, 1345),\n",
              "  (2694, 1347),\n",
              "  (2696, 1348),\n",
              "  (2700, 1350),\n",
              "  (2702, 1351),\n",
              "  (2706, 1353),\n",
              "  (2708, 1354),\n",
              "  (2712, 1356),\n",
              "  (2714, 1357),\n",
              "  (2718, 1359),\n",
              "  (2720, 1360),\n",
              "  (2724, 1362),\n",
              "  (2726, 1363),\n",
              "  (2730, 1365),\n",
              "  (2732, 1366),\n",
              "  (2736, 1368),\n",
              "  (2738, 1369),\n",
              "  (2742, 1371),\n",
              "  (2744, 1372),\n",
              "  (2748, 1374),\n",
              "  (2750, 1375),\n",
              "  (2754, 1377),\n",
              "  (2756, 1378),\n",
              "  (2760, 1380),\n",
              "  (2762, 1381),\n",
              "  (2766, 1383),\n",
              "  (2768, 1384),\n",
              "  (2772, 1386),\n",
              "  (2774, 1387),\n",
              "  (2778, 1389),\n",
              "  (2780, 1390),\n",
              "  (2784, 1392),\n",
              "  (2786, 1393),\n",
              "  (2790, 1395),\n",
              "  (2792, 1396),\n",
              "  (2796, 1398),\n",
              "  (2798, 1399),\n",
              "  (2802, 1401),\n",
              "  (2804, 1402),\n",
              "  (2808, 1404),\n",
              "  (2810, 1405),\n",
              "  (2814, 1407),\n",
              "  (2816, 1408),\n",
              "  (2820, 1410),\n",
              "  (2822, 1411),\n",
              "  (2826, 1413),\n",
              "  (2828, 1414),\n",
              "  (2832, 1416),\n",
              "  (2834, 1417),\n",
              "  (2838, 1419),\n",
              "  (2840, 1420),\n",
              "  (2844, 1422),\n",
              "  (2846, 1423),\n",
              "  (2850, 1425),\n",
              "  (2852, 1426),\n",
              "  (2856, 1428),\n",
              "  (2858, 1429),\n",
              "  (2862, 1431),\n",
              "  (2864, 1432),\n",
              "  (2868, 1434),\n",
              "  (2870, 1435),\n",
              "  (2874, 1437),\n",
              "  (2876, 1438),\n",
              "  (2880, 1440),\n",
              "  (2882, 1441),\n",
              "  (2886, 1443),\n",
              "  (2888, 1444),\n",
              "  (2892, 1446),\n",
              "  (2894, 1447),\n",
              "  (2898, 1449),\n",
              "  (2900, 1450),\n",
              "  (2904, 1452),\n",
              "  (2906, 1453),\n",
              "  (2910, 1455),\n",
              "  (2912, 1456),\n",
              "  (2916, 1458),\n",
              "  (2918, 1459),\n",
              "  (2922, 1461),\n",
              "  (2924, 1462),\n",
              "  (2928, 1464),\n",
              "  (2930, 1465),\n",
              "  (2934, 1467),\n",
              "  (2936, 1468),\n",
              "  (2940, 1470),\n",
              "  (2942, 1471),\n",
              "  (2946, 1473),\n",
              "  (2948, 1474),\n",
              "  (2952, 1476),\n",
              "  (2954, 1477),\n",
              "  (2958, 1479),\n",
              "  (2960, 1480),\n",
              "  (2964, 1482),\n",
              "  (2966, 1483),\n",
              "  (2970, 1485),\n",
              "  (2972, 1486),\n",
              "  (2976, 1488),\n",
              "  (2978, 1489),\n",
              "  (2982, 1491),\n",
              "  (2984, 1492),\n",
              "  (2988, 1494),\n",
              "  (2990, 1495),\n",
              "  (2994, 1497),\n",
              "  (2996, 1498),\n",
              "  (3000, 1500),\n",
              "  ...],\n",
              " [(4, 2),\n",
              "  (10, 5),\n",
              "  (16, 8),\n",
              "  (22, 11),\n",
              "  (28, 14),\n",
              "  (34, 17),\n",
              "  (40, 20),\n",
              "  (46, 23),\n",
              "  (52, 26),\n",
              "  (58, 29),\n",
              "  (64, 32),\n",
              "  (70, 35),\n",
              "  (76, 38),\n",
              "  (82, 41),\n",
              "  (88, 44),\n",
              "  (94, 47),\n",
              "  (100, 50),\n",
              "  (106, 53),\n",
              "  (112, 56),\n",
              "  (118, 59),\n",
              "  (124, 62),\n",
              "  (130, 65),\n",
              "  (136, 68),\n",
              "  (142, 71),\n",
              "  (148, 74),\n",
              "  (154, 77),\n",
              "  (160, 80),\n",
              "  (166, 83),\n",
              "  (172, 86),\n",
              "  (178, 89),\n",
              "  (184, 92),\n",
              "  (190, 95),\n",
              "  (196, 98),\n",
              "  (202, 101),\n",
              "  (208, 104),\n",
              "  (214, 107),\n",
              "  (220, 110),\n",
              "  (226, 113),\n",
              "  (232, 116),\n",
              "  (238, 119),\n",
              "  (244, 122),\n",
              "  (250, 125),\n",
              "  (256, 128),\n",
              "  (262, 131),\n",
              "  (268, 134),\n",
              "  (274, 137),\n",
              "  (280, 140),\n",
              "  (286, 143),\n",
              "  (292, 146),\n",
              "  (298, 149),\n",
              "  (304, 152),\n",
              "  (310, 155),\n",
              "  (316, 158),\n",
              "  (322, 161),\n",
              "  (328, 164),\n",
              "  (334, 167),\n",
              "  (340, 170),\n",
              "  (346, 173),\n",
              "  (352, 176),\n",
              "  (358, 179),\n",
              "  (364, 182),\n",
              "  (370, 185),\n",
              "  (376, 188),\n",
              "  (382, 191),\n",
              "  (388, 194),\n",
              "  (394, 197),\n",
              "  (400, 200),\n",
              "  (406, 203),\n",
              "  (412, 206),\n",
              "  (418, 209),\n",
              "  (424, 212),\n",
              "  (430, 215),\n",
              "  (436, 218),\n",
              "  (442, 221),\n",
              "  (448, 224),\n",
              "  (454, 227),\n",
              "  (460, 230),\n",
              "  (466, 233),\n",
              "  (472, 236),\n",
              "  (478, 239),\n",
              "  (484, 242),\n",
              "  (490, 245),\n",
              "  (496, 248),\n",
              "  (502, 251),\n",
              "  (508, 254),\n",
              "  (514, 257),\n",
              "  (520, 260),\n",
              "  (526, 263),\n",
              "  (532, 266),\n",
              "  (538, 269),\n",
              "  (544, 272),\n",
              "  (550, 275),\n",
              "  (556, 278),\n",
              "  (562, 281),\n",
              "  (568, 284),\n",
              "  (574, 287),\n",
              "  (580, 290),\n",
              "  (586, 293),\n",
              "  (592, 296),\n",
              "  (598, 299),\n",
              "  (604, 302),\n",
              "  (610, 305),\n",
              "  (616, 308),\n",
              "  (622, 311),\n",
              "  (628, 314),\n",
              "  (634, 317),\n",
              "  (640, 320),\n",
              "  (646, 323),\n",
              "  (652, 326),\n",
              "  (658, 329),\n",
              "  (664, 332),\n",
              "  (670, 335),\n",
              "  (676, 338),\n",
              "  (682, 341),\n",
              "  (688, 344),\n",
              "  (694, 347),\n",
              "  (700, 350),\n",
              "  (706, 353),\n",
              "  (712, 356),\n",
              "  (718, 359),\n",
              "  (724, 362),\n",
              "  (730, 365),\n",
              "  (736, 368),\n",
              "  (742, 371),\n",
              "  (748, 374),\n",
              "  (754, 377),\n",
              "  (760, 380),\n",
              "  (766, 383),\n",
              "  (772, 386),\n",
              "  (778, 389),\n",
              "  (784, 392),\n",
              "  (790, 395),\n",
              "  (796, 398),\n",
              "  (802, 401),\n",
              "  (808, 404),\n",
              "  (814, 407),\n",
              "  (820, 410),\n",
              "  (826, 413),\n",
              "  (832, 416),\n",
              "  (838, 419),\n",
              "  (844, 422),\n",
              "  (850, 425),\n",
              "  (856, 428),\n",
              "  (862, 431),\n",
              "  (868, 434),\n",
              "  (874, 437),\n",
              "  (880, 440),\n",
              "  (886, 443),\n",
              "  (892, 446),\n",
              "  (898, 449),\n",
              "  (904, 452),\n",
              "  (910, 455),\n",
              "  (916, 458),\n",
              "  (922, 461),\n",
              "  (928, 464),\n",
              "  (934, 467),\n",
              "  (940, 470),\n",
              "  (946, 473),\n",
              "  (952, 476),\n",
              "  (958, 479),\n",
              "  (964, 482),\n",
              "  (970, 485),\n",
              "  (976, 488),\n",
              "  (982, 491),\n",
              "  (988, 494),\n",
              "  (994, 497),\n",
              "  (1000, 500),\n",
              "  (1006, 503),\n",
              "  (1012, 506),\n",
              "  (1018, 509),\n",
              "  (1024, 512),\n",
              "  (1030, 515),\n",
              "  (1036, 518),\n",
              "  (1042, 521),\n",
              "  (1048, 524),\n",
              "  (1054, 527),\n",
              "  (1060, 530),\n",
              "  (1066, 533),\n",
              "  (1072, 536),\n",
              "  (1078, 539),\n",
              "  (1084, 542),\n",
              "  (1090, 545),\n",
              "  (1096, 548),\n",
              "  (1102, 551),\n",
              "  (1108, 554),\n",
              "  (1114, 557),\n",
              "  (1120, 560),\n",
              "  (1126, 563),\n",
              "  (1132, 566),\n",
              "  (1138, 569),\n",
              "  (1144, 572),\n",
              "  (1150, 575),\n",
              "  (1156, 578),\n",
              "  (1162, 581),\n",
              "  (1168, 584),\n",
              "  (1174, 587),\n",
              "  (1180, 590),\n",
              "  (1186, 593),\n",
              "  (1192, 596),\n",
              "  (1198, 599),\n",
              "  (1204, 602),\n",
              "  (1210, 605),\n",
              "  (1216, 608),\n",
              "  (1222, 611),\n",
              "  (1228, 614),\n",
              "  (1234, 617),\n",
              "  (1240, 620),\n",
              "  (1246, 623),\n",
              "  (1252, 626),\n",
              "  (1258, 629),\n",
              "  (1264, 632),\n",
              "  (1270, 635),\n",
              "  (1276, 638),\n",
              "  (1282, 641),\n",
              "  (1288, 644),\n",
              "  (1294, 647),\n",
              "  (1300, 650),\n",
              "  (1306, 653),\n",
              "  (1312, 656),\n",
              "  (1318, 659),\n",
              "  (1324, 662),\n",
              "  (1330, 665),\n",
              "  (1336, 668),\n",
              "  (1342, 671),\n",
              "  (1348, 674),\n",
              "  (1354, 677),\n",
              "  (1360, 680),\n",
              "  (1366, 683),\n",
              "  (1372, 686),\n",
              "  (1378, 689),\n",
              "  (1384, 692),\n",
              "  (1390, 695),\n",
              "  (1396, 698),\n",
              "  (1402, 701),\n",
              "  (1408, 704),\n",
              "  (1414, 707),\n",
              "  (1420, 710),\n",
              "  (1426, 713),\n",
              "  (1432, 716),\n",
              "  (1438, 719),\n",
              "  (1444, 722),\n",
              "  (1450, 725),\n",
              "  (1456, 728),\n",
              "  (1462, 731),\n",
              "  (1468, 734),\n",
              "  (1474, 737),\n",
              "  (1480, 740),\n",
              "  (1486, 743),\n",
              "  (1492, 746),\n",
              "  (1498, 749),\n",
              "  (1504, 752),\n",
              "  (1510, 755),\n",
              "  (1516, 758),\n",
              "  (1522, 761),\n",
              "  (1528, 764),\n",
              "  (1534, 767),\n",
              "  (1540, 770),\n",
              "  (1546, 773),\n",
              "  (1552, 776),\n",
              "  (1558, 779),\n",
              "  (1564, 782),\n",
              "  (1570, 785),\n",
              "  (1576, 788),\n",
              "  (1582, 791),\n",
              "  (1588, 794),\n",
              "  (1594, 797),\n",
              "  (1600, 800),\n",
              "  (1606, 803),\n",
              "  (1612, 806),\n",
              "  (1618, 809),\n",
              "  (1624, 812),\n",
              "  (1630, 815),\n",
              "  (1636, 818),\n",
              "  (1642, 821),\n",
              "  (1648, 824),\n",
              "  (1654, 827),\n",
              "  (1660, 830),\n",
              "  (1666, 833),\n",
              "  (1672, 836),\n",
              "  (1678, 839),\n",
              "  (1684, 842),\n",
              "  (1690, 845),\n",
              "  (1696, 848),\n",
              "  (1702, 851),\n",
              "  (1708, 854),\n",
              "  (1714, 857),\n",
              "  (1720, 860),\n",
              "  (1726, 863),\n",
              "  (1732, 866),\n",
              "  (1738, 869),\n",
              "  (1744, 872),\n",
              "  (1750, 875),\n",
              "  (1756, 878),\n",
              "  (1762, 881),\n",
              "  (1768, 884),\n",
              "  (1774, 887),\n",
              "  (1780, 890),\n",
              "  (1786, 893),\n",
              "  (1792, 896),\n",
              "  (1798, 899),\n",
              "  (1804, 902),\n",
              "  (1810, 905),\n",
              "  (1816, 908),\n",
              "  (1822, 911),\n",
              "  (1828, 914),\n",
              "  (1834, 917),\n",
              "  (1840, 920),\n",
              "  (1846, 923),\n",
              "  (1852, 926),\n",
              "  (1858, 929),\n",
              "  (1864, 932),\n",
              "  (1870, 935),\n",
              "  (1876, 938),\n",
              "  (1882, 941),\n",
              "  (1888, 944),\n",
              "  (1894, 947),\n",
              "  (1900, 950),\n",
              "  (1906, 953),\n",
              "  (1912, 956),\n",
              "  (1918, 959),\n",
              "  (1924, 962),\n",
              "  (1930, 965),\n",
              "  (1936, 968),\n",
              "  (1942, 971),\n",
              "  (1948, 974),\n",
              "  (1954, 977),\n",
              "  (1960, 980),\n",
              "  (1966, 983),\n",
              "  (1972, 986),\n",
              "  (1978, 989),\n",
              "  (1984, 992),\n",
              "  (1990, 995),\n",
              "  (1996, 998),\n",
              "  (2002, 1001),\n",
              "  (2008, 1004),\n",
              "  (2014, 1007),\n",
              "  (2020, 1010),\n",
              "  (2026, 1013),\n",
              "  (2032, 1016),\n",
              "  (2038, 1019),\n",
              "  (2044, 1022),\n",
              "  (2050, 1025),\n",
              "  (2056, 1028),\n",
              "  (2062, 1031),\n",
              "  (2068, 1034),\n",
              "  (2074, 1037),\n",
              "  (2080, 1040),\n",
              "  (2086, 1043),\n",
              "  (2092, 1046),\n",
              "  (2098, 1049),\n",
              "  (2104, 1052),\n",
              "  (2110, 1055),\n",
              "  (2116, 1058),\n",
              "  (2122, 1061),\n",
              "  (2128, 1064),\n",
              "  (2134, 1067),\n",
              "  (2140, 1070),\n",
              "  (2146, 1073),\n",
              "  (2152, 1076),\n",
              "  (2158, 1079),\n",
              "  (2164, 1082),\n",
              "  (2170, 1085),\n",
              "  (2176, 1088),\n",
              "  (2182, 1091),\n",
              "  (2188, 1094),\n",
              "  (2194, 1097),\n",
              "  (2200, 1100),\n",
              "  (2206, 1103),\n",
              "  (2212, 1106),\n",
              "  (2218, 1109),\n",
              "  (2224, 1112),\n",
              "  (2230, 1115),\n",
              "  (2236, 1118),\n",
              "  (2242, 1121),\n",
              "  (2248, 1124),\n",
              "  (2254, 1127),\n",
              "  (2260, 1130),\n",
              "  (2266, 1133),\n",
              "  (2272, 1136),\n",
              "  (2278, 1139),\n",
              "  (2284, 1142),\n",
              "  (2290, 1145),\n",
              "  (2296, 1148),\n",
              "  (2302, 1151),\n",
              "  (2308, 1154),\n",
              "  (2314, 1157),\n",
              "  (2320, 1160),\n",
              "  (2326, 1163),\n",
              "  (2332, 1166),\n",
              "  (2338, 1169),\n",
              "  (2344, 1172),\n",
              "  (2350, 1175),\n",
              "  (2356, 1178),\n",
              "  (2362, 1181),\n",
              "  (2368, 1184),\n",
              "  (2374, 1187),\n",
              "  (2380, 1190),\n",
              "  (2386, 1193),\n",
              "  (2392, 1196),\n",
              "  (2398, 1199),\n",
              "  (2404, 1202),\n",
              "  (2410, 1205),\n",
              "  (2416, 1208),\n",
              "  (2422, 1211),\n",
              "  (2428, 1214),\n",
              "  (2434, 1217),\n",
              "  (2440, 1220),\n",
              "  (2446, 1223),\n",
              "  (2452, 1226),\n",
              "  (2458, 1229),\n",
              "  (2464, 1232),\n",
              "  (2470, 1235),\n",
              "  (2476, 1238),\n",
              "  (2482, 1241),\n",
              "  (2488, 1244),\n",
              "  (2494, 1247),\n",
              "  (2500, 1250),\n",
              "  (2506, 1253),\n",
              "  (2512, 1256),\n",
              "  (2518, 1259),\n",
              "  (2524, 1262),\n",
              "  (2530, 1265),\n",
              "  (2536, 1268),\n",
              "  (2542, 1271),\n",
              "  (2548, 1274),\n",
              "  (2554, 1277),\n",
              "  (2560, 1280),\n",
              "  (2566, 1283),\n",
              "  (2572, 1286),\n",
              "  (2578, 1289),\n",
              "  (2584, 1292),\n",
              "  (2590, 1295),\n",
              "  (2596, 1298),\n",
              "  (2602, 1301),\n",
              "  (2608, 1304),\n",
              "  (2614, 1307),\n",
              "  (2620, 1310),\n",
              "  (2626, 1313),\n",
              "  (2632, 1316),\n",
              "  (2638, 1319),\n",
              "  (2644, 1322),\n",
              "  (2650, 1325),\n",
              "  (2656, 1328),\n",
              "  (2662, 1331),\n",
              "  (2668, 1334),\n",
              "  (2674, 1337),\n",
              "  (2680, 1340),\n",
              "  (2686, 1343),\n",
              "  (2692, 1346),\n",
              "  (2698, 1349),\n",
              "  (2704, 1352),\n",
              "  (2710, 1355),\n",
              "  (2716, 1358),\n",
              "  (2722, 1361),\n",
              "  (2728, 1364),\n",
              "  (2734, 1367),\n",
              "  (2740, 1370),\n",
              "  (2746, 1373),\n",
              "  (2752, 1376),\n",
              "  (2758, 1379),\n",
              "  (2764, 1382),\n",
              "  (2770, 1385),\n",
              "  (2776, 1388),\n",
              "  (2782, 1391),\n",
              "  (2788, 1394),\n",
              "  (2794, 1397),\n",
              "  (2800, 1400),\n",
              "  (2806, 1403),\n",
              "  (2812, 1406),\n",
              "  (2818, 1409),\n",
              "  (2824, 1412),\n",
              "  (2830, 1415),\n",
              "  (2836, 1418),\n",
              "  (2842, 1421),\n",
              "  (2848, 1424),\n",
              "  (2854, 1427),\n",
              "  (2860, 1430),\n",
              "  (2866, 1433),\n",
              "  (2872, 1436),\n",
              "  (2878, 1439),\n",
              "  (2884, 1442),\n",
              "  (2890, 1445),\n",
              "  (2896, 1448),\n",
              "  (2902, 1451),\n",
              "  (2908, 1454),\n",
              "  (2914, 1457),\n",
              "  (2920, 1460),\n",
              "  (2926, 1463),\n",
              "  (2932, 1466),\n",
              "  (2938, 1469),\n",
              "  (2944, 1472),\n",
              "  (2950, 1475),\n",
              "  (2956, 1478),\n",
              "  (2962, 1481),\n",
              "  (2968, 1484),\n",
              "  (2974, 1487),\n",
              "  (2980, 1490),\n",
              "  (2986, 1493),\n",
              "  (2992, 1496),\n",
              "  (2998, 1499),\n",
              "  (3004, 1502),\n",
              "  (3010, 1505),\n",
              "  (3016, 1508),\n",
              "  (3022, 1511),\n",
              "  (3028, 1514),\n",
              "  (3034, 1517),\n",
              "  (3040, 1520),\n",
              "  (3046, 1523),\n",
              "  (3052, 1526),\n",
              "  (3058, 1529),\n",
              "  (3064, 1532),\n",
              "  (3070, 1535),\n",
              "  (3076, 1538),\n",
              "  (3082, 1541),\n",
              "  (3088, 1544),\n",
              "  (3094, 1547),\n",
              "  (3100, 1550),\n",
              "  (3106, 1553),\n",
              "  (3112, 1556),\n",
              "  (3118, 1559),\n",
              "  (3124, 1562),\n",
              "  (3130, 1565),\n",
              "  (3136, 1568),\n",
              "  (3142, 1571),\n",
              "  (3148, 1574),\n",
              "  (3154, 1577),\n",
              "  (3160, 1580),\n",
              "  (3166, 1583),\n",
              "  (3172, 1586),\n",
              "  (3178, 1589),\n",
              "  (3184, 1592),\n",
              "  (3190, 1595),\n",
              "  (3196, 1598),\n",
              "  (3202, 1601),\n",
              "  (3208, 1604),\n",
              "  (3214, 1607),\n",
              "  (3220, 1610),\n",
              "  (3226, 1613),\n",
              "  (3232, 1616),\n",
              "  (3238, 1619),\n",
              "  (3244, 1622),\n",
              "  (3250, 1625),\n",
              "  (3256, 1628),\n",
              "  (3262, 1631),\n",
              "  (3268, 1634),\n",
              "  (3274, 1637),\n",
              "  (3280, 1640),\n",
              "  (3286, 1643),\n",
              "  (3292, 1646),\n",
              "  (3298, 1649),\n",
              "  (3304, 1652),\n",
              "  (3310, 1655),\n",
              "  (3316, 1658),\n",
              "  (3322, 1661),\n",
              "  (3328, 1664),\n",
              "  (3334, 1667),\n",
              "  (3340, 1670),\n",
              "  (3346, 1673),\n",
              "  (3352, 1676),\n",
              "  (3358, 1679),\n",
              "  (3364, 1682),\n",
              "  (3370, 1685),\n",
              "  (3376, 1688),\n",
              "  (3382, 1691),\n",
              "  (3388, 1694),\n",
              "  (3394, 1697),\n",
              "  (3400, 1700),\n",
              "  (3406, 1703),\n",
              "  (3412, 1706),\n",
              "  (3418, 1709),\n",
              "  (3424, 1712),\n",
              "  (3430, 1715),\n",
              "  (3436, 1718),\n",
              "  (3442, 1721),\n",
              "  (3448, 1724),\n",
              "  (3454, 1727),\n",
              "  (3460, 1730),\n",
              "  (3466, 1733),\n",
              "  (3472, 1736),\n",
              "  (3478, 1739),\n",
              "  (3484, 1742),\n",
              "  (3490, 1745),\n",
              "  (3496, 1748),\n",
              "  (3502, 1751),\n",
              "  (3508, 1754),\n",
              "  (3514, 1757),\n",
              "  (3520, 1760),\n",
              "  (3526, 1763),\n",
              "  (3532, 1766),\n",
              "  (3538, 1769),\n",
              "  (3544, 1772),\n",
              "  (3550, 1775),\n",
              "  (3556, 1778),\n",
              "  (3562, 1781),\n",
              "  (3568, 1784),\n",
              "  (3574, 1787),\n",
              "  (3580, 1790),\n",
              "  (3586, 1793),\n",
              "  (3592, 1796),\n",
              "  (3598, 1799),\n",
              "  (3604, 1802),\n",
              "  (3610, 1805),\n",
              "  (3616, 1808),\n",
              "  (3622, 1811),\n",
              "  (3628, 1814),\n",
              "  (3634, 1817),\n",
              "  (3640, 1820),\n",
              "  (3646, 1823),\n",
              "  (3652, 1826),\n",
              "  (3658, 1829),\n",
              "  (3664, 1832),\n",
              "  (3670, 1835),\n",
              "  (3676, 1838),\n",
              "  (3682, 1841),\n",
              "  (3688, 1844),\n",
              "  (3694, 1847),\n",
              "  (3700, 1850),\n",
              "  (3706, 1853),\n",
              "  (3712, 1856),\n",
              "  (3718, 1859),\n",
              "  (3724, 1862),\n",
              "  (3730, 1865),\n",
              "  (3736, 1868),\n",
              "  (3742, 1871),\n",
              "  (3748, 1874),\n",
              "  (3754, 1877),\n",
              "  (3760, 1880),\n",
              "  (3766, 1883),\n",
              "  (3772, 1886),\n",
              "  (3778, 1889),\n",
              "  (3784, 1892),\n",
              "  (3790, 1895),\n",
              "  (3796, 1898),\n",
              "  (3802, 1901),\n",
              "  (3808, 1904),\n",
              "  (3814, 1907),\n",
              "  (3820, 1910),\n",
              "  (3826, 1913),\n",
              "  (3832, 1916),\n",
              "  (3838, 1919),\n",
              "  (3844, 1922),\n",
              "  (3850, 1925),\n",
              "  (3856, 1928),\n",
              "  (3862, 1931),\n",
              "  (3868, 1934),\n",
              "  (3874, 1937),\n",
              "  (3880, 1940),\n",
              "  (3886, 1943),\n",
              "  (3892, 1946),\n",
              "  (3898, 1949),\n",
              "  (3904, 1952),\n",
              "  (3910, 1955),\n",
              "  (3916, 1958),\n",
              "  (3922, 1961),\n",
              "  (3928, 1964),\n",
              "  (3934, 1967),\n",
              "  (3940, 1970),\n",
              "  (3946, 1973),\n",
              "  (3952, 1976),\n",
              "  (3958, 1979),\n",
              "  (3964, 1982),\n",
              "  (3970, 1985),\n",
              "  (3976, 1988),\n",
              "  (3982, 1991),\n",
              "  (3988, 1994),\n",
              "  (3994, 1997),\n",
              "  (4000, 2000),\n",
              "  (4006, 2003),\n",
              "  (4012, 2006),\n",
              "  (4018, 2009),\n",
              "  (4024, 2012),\n",
              "  (4030, 2015),\n",
              "  (4036, 2018),\n",
              "  (4042, 2021),\n",
              "  (4048, 2024),\n",
              "  (4054, 2027),\n",
              "  (4060, 2030),\n",
              "  (4066, 2033),\n",
              "  (4072, 2036),\n",
              "  (4078, 2039),\n",
              "  (4084, 2042),\n",
              "  (4090, 2045),\n",
              "  (4096, 2048),\n",
              "  (4102, 2051),\n",
              "  (4108, 2054),\n",
              "  (4114, 2057),\n",
              "  (4120, 2060),\n",
              "  (4126, 2063),\n",
              "  (4132, 2066),\n",
              "  (4138, 2069),\n",
              "  (4144, 2072),\n",
              "  (4150, 2075),\n",
              "  (4156, 2078),\n",
              "  (4162, 2081),\n",
              "  (4168, 2084),\n",
              "  (4174, 2087),\n",
              "  (4180, 2090),\n",
              "  (4186, 2093),\n",
              "  (4192, 2096),\n",
              "  (4198, 2099),\n",
              "  (4204, 2102),\n",
              "  (4210, 2105),\n",
              "  (4216, 2108),\n",
              "  (4222, 2111),\n",
              "  (4228, 2114),\n",
              "  (4234, 2117),\n",
              "  (4240, 2120),\n",
              "  (4246, 2123),\n",
              "  (4252, 2126),\n",
              "  (4258, 2129),\n",
              "  (4264, 2132),\n",
              "  (4270, 2135),\n",
              "  (4276, 2138),\n",
              "  (4282, 2141),\n",
              "  (4288, 2144),\n",
              "  (4294, 2147),\n",
              "  (4300, 2150),\n",
              "  (4306, 2153),\n",
              "  (4312, 2156),\n",
              "  (4318, 2159),\n",
              "  (4324, 2162),\n",
              "  (4330, 2165),\n",
              "  (4336, 2168),\n",
              "  (4342, 2171),\n",
              "  (4348, 2174),\n",
              "  (4354, 2177),\n",
              "  (4360, 2180),\n",
              "  (4366, 2183),\n",
              "  (4372, 2186),\n",
              "  (4378, 2189),\n",
              "  (4384, 2192),\n",
              "  (4390, 2195),\n",
              "  (4396, 2198),\n",
              "  (4402, 2201),\n",
              "  (4408, 2204),\n",
              "  (4414, 2207),\n",
              "  (4420, 2210),\n",
              "  (4426, 2213),\n",
              "  (4432, 2216),\n",
              "  (4438, 2219),\n",
              "  (4444, 2222),\n",
              "  (4450, 2225),\n",
              "  (4456, 2228),\n",
              "  (4462, 2231),\n",
              "  (4468, 2234),\n",
              "  (4474, 2237),\n",
              "  (4480, 2240),\n",
              "  (4486, 2243),\n",
              "  (4492, 2246),\n",
              "  (4498, 2249),\n",
              "  (4504, 2252),\n",
              "  (4510, 2255),\n",
              "  (4516, 2258),\n",
              "  (4522, 2261),\n",
              "  (4528, 2264),\n",
              "  (4534, 2267),\n",
              "  (4540, 2270),\n",
              "  (4546, 2273),\n",
              "  (4552, 2276),\n",
              "  (4558, 2279),\n",
              "  (4564, 2282),\n",
              "  (4570, 2285),\n",
              "  (4576, 2288),\n",
              "  (4582, 2291),\n",
              "  (4588, 2294),\n",
              "  (4594, 2297),\n",
              "  (4600, 2300),\n",
              "  (4606, 2303),\n",
              "  (4612, 2306),\n",
              "  (4618, 2309),\n",
              "  (4624, 2312),\n",
              "  (4630, 2315),\n",
              "  (4636, 2318),\n",
              "  (4642, 2321),\n",
              "  (4648, 2324),\n",
              "  (4654, 2327),\n",
              "  (4660, 2330),\n",
              "  (4666, 2333),\n",
              "  (4672, 2336),\n",
              "  (4678, 2339),\n",
              "  (4684, 2342),\n",
              "  (4690, 2345),\n",
              "  (4696, 2348),\n",
              "  (4702, 2351),\n",
              "  (4708, 2354),\n",
              "  (4714, 2357),\n",
              "  (4720, 2360),\n",
              "  (4726, 2363),\n",
              "  (4732, 2366),\n",
              "  (4738, 2369),\n",
              "  (4744, 2372),\n",
              "  (4750, 2375),\n",
              "  (4756, 2378),\n",
              "  (4762, 2381),\n",
              "  (4768, 2384),\n",
              "  (4774, 2387),\n",
              "  (4780, 2390),\n",
              "  (4786, 2393),\n",
              "  (4792, 2396),\n",
              "  (4798, 2399),\n",
              "  (4804, 2402),\n",
              "  (4810, 2405),\n",
              "  (4816, 2408),\n",
              "  (4822, 2411),\n",
              "  (4828, 2414),\n",
              "  (4834, 2417),\n",
              "  (4840, 2420),\n",
              "  (4846, 2423),\n",
              "  (4852, 2426),\n",
              "  (4858, 2429),\n",
              "  (4864, 2432),\n",
              "  (4870, 2435),\n",
              "  (4876, 2438),\n",
              "  (4882, 2441),\n",
              "  (4888, 2444),\n",
              "  (4894, 2447),\n",
              "  (4900, 2450),\n",
              "  (4906, 2453),\n",
              "  (4912, 2456),\n",
              "  (4918, 2459),\n",
              "  (4924, 2462),\n",
              "  (4930, 2465),\n",
              "  (4936, 2468),\n",
              "  (4942, 2471),\n",
              "  (4948, 2474),\n",
              "  (4954, 2477),\n",
              "  (4960, 2480),\n",
              "  (4966, 2483),\n",
              "  (4972, 2486),\n",
              "  (4978, 2489),\n",
              "  (4984, 2492),\n",
              "  (4990, 2495),\n",
              "  (4996, 2498),\n",
              "  (5002, 2501),\n",
              "  (5008, 2504),\n",
              "  (5014, 2507),\n",
              "  (5020, 2510),\n",
              "  (5026, 2513),\n",
              "  (5032, 2516),\n",
              "  (5038, 2519),\n",
              "  (5044, 2522),\n",
              "  (5050, 2525),\n",
              "  (5056, 2528),\n",
              "  (5062, 2531),\n",
              "  (5068, 2534),\n",
              "  (5074, 2537),\n",
              "  (5080, 2540),\n",
              "  (5086, 2543),\n",
              "  (5092, 2546),\n",
              "  (5098, 2549),\n",
              "  (5104, 2552),\n",
              "  (5110, 2555),\n",
              "  (5116, 2558),\n",
              "  (5122, 2561),\n",
              "  (5128, 2564),\n",
              "  (5134, 2567),\n",
              "  (5140, 2570),\n",
              "  (5146, 2573),\n",
              "  (5152, 2576),\n",
              "  (5158, 2579),\n",
              "  (5164, 2582),\n",
              "  (5170, 2585),\n",
              "  (5176, 2588),\n",
              "  (5182, 2591),\n",
              "  (5188, 2594),\n",
              "  (5194, 2597),\n",
              "  (5200, 2600),\n",
              "  (5206, 2603),\n",
              "  (5212, 2606),\n",
              "  (5218, 2609),\n",
              "  (5224, 2612),\n",
              "  (5230, 2615),\n",
              "  (5236, 2618),\n",
              "  (5242, 2621),\n",
              "  (5248, 2624),\n",
              "  (5254, 2627),\n",
              "  (5260, 2630),\n",
              "  (5266, 2633),\n",
              "  (5272, 2636),\n",
              "  (5278, 2639),\n",
              "  (5284, 2642),\n",
              "  (5290, 2645),\n",
              "  (5296, 2648),\n",
              "  (5302, 2651),\n",
              "  (5308, 2654),\n",
              "  (5314, 2657),\n",
              "  (5320, 2660),\n",
              "  (5326, 2663),\n",
              "  (5332, 2666),\n",
              "  (5338, 2669),\n",
              "  (5344, 2672),\n",
              "  (5350, 2675),\n",
              "  (5356, 2678),\n",
              "  (5362, 2681),\n",
              "  (5368, 2684),\n",
              "  (5374, 2687),\n",
              "  (5380, 2690),\n",
              "  (5386, 2693),\n",
              "  (5392, 2696),\n",
              "  (5398, 2699),\n",
              "  (5404, 2702),\n",
              "  (5410, 2705),\n",
              "  (5416, 2708),\n",
              "  (5422, 2711),\n",
              "  (5428, 2714),\n",
              "  (5434, 2717),\n",
              "  (5440, 2720),\n",
              "  (5446, 2723),\n",
              "  (5452, 2726),\n",
              "  (5458, 2729),\n",
              "  (5464, 2732),\n",
              "  (5470, 2735),\n",
              "  (5476, 2738),\n",
              "  (5482, 2741),\n",
              "  (5488, 2744),\n",
              "  (5494, 2747),\n",
              "  (5500, 2750),\n",
              "  (5506, 2753),\n",
              "  (5512, 2756),\n",
              "  (5518, 2759),\n",
              "  (5524, 2762),\n",
              "  (5530, 2765),\n",
              "  (5536, 2768),\n",
              "  (5542, 2771),\n",
              "  (5548, 2774),\n",
              "  (5554, 2777),\n",
              "  (5560, 2780),\n",
              "  (5566, 2783),\n",
              "  (5572, 2786),\n",
              "  (5578, 2789),\n",
              "  (5584, 2792),\n",
              "  (5590, 2795),\n",
              "  (5596, 2798),\n",
              "  (5602, 2801),\n",
              "  (5608, 2804),\n",
              "  (5614, 2807),\n",
              "  (5620, 2810),\n",
              "  (5626, 2813),\n",
              "  (5632, 2816),\n",
              "  (5638, 2819),\n",
              "  (5644, 2822),\n",
              "  (5650, 2825),\n",
              "  (5656, 2828),\n",
              "  (5662, 2831),\n",
              "  (5668, 2834),\n",
              "  (5674, 2837),\n",
              "  (5680, 2840),\n",
              "  (5686, 2843),\n",
              "  (5692, 2846),\n",
              "  (5698, 2849),\n",
              "  (5704, 2852),\n",
              "  (5710, 2855),\n",
              "  (5716, 2858),\n",
              "  (5722, 2861),\n",
              "  (5728, 2864),\n",
              "  (5734, 2867),\n",
              "  (5740, 2870),\n",
              "  (5746, 2873),\n",
              "  (5752, 2876),\n",
              "  (5758, 2879),\n",
              "  (5764, 2882),\n",
              "  (5770, 2885),\n",
              "  (5776, 2888),\n",
              "  (5782, 2891),\n",
              "  (5788, 2894),\n",
              "  (5794, 2897),\n",
              "  (5800, 2900),\n",
              "  (5806, 2903),\n",
              "  (5812, 2906),\n",
              "  (5818, 2909),\n",
              "  (5824, 2912),\n",
              "  (5830, 2915),\n",
              "  (5836, 2918),\n",
              "  (5842, 2921),\n",
              "  (5848, 2924),\n",
              "  (5854, 2927),\n",
              "  (5860, 2930),\n",
              "  (5866, 2933),\n",
              "  (5872, 2936),\n",
              "  (5878, 2939),\n",
              "  (5884, 2942),\n",
              "  (5890, 2945),\n",
              "  (5896, 2948),\n",
              "  (5902, 2951),\n",
              "  (5908, 2954),\n",
              "  (5914, 2957),\n",
              "  (5920, 2960),\n",
              "  (5926, 2963),\n",
              "  (5932, 2966),\n",
              "  (5938, 2969),\n",
              "  (5944, 2972),\n",
              "  (5950, 2975),\n",
              "  (5956, 2978),\n",
              "  (5962, 2981),\n",
              "  (5968, 2984),\n",
              "  (5974, 2987),\n",
              "  (5980, 2990),\n",
              "  (5986, 2993),\n",
              "  (5992, 2996),\n",
              "  (5998, 2999),\n",
              "  ...]]"
            ]
          },
          "metadata": {
            "tags": []
          },
          "execution_count": 92
        }
      ]
    },
    {
      "cell_type": "markdown",
      "metadata": {
        "id": "ynV8o0DQe-hS"
      },
      "source": [
        "# Persistiendo RDD"
      ]
    },
    {
      "cell_type": "markdown",
      "metadata": {
        "id": "py6LcfQ3fDHc"
      },
      "source": [
        "## Cache"
      ]
    },
    {
      "cell_type": "markdown",
      "metadata": {
        "id": "sKoTPP8DfFYm"
      },
      "source": [
        "Cachea un RDD intermedio que va a ser utilizado varias veces de modo de evitar tener que ejecutar todas las transformaciones cada vez."
      ]
    },
    {
      "cell_type": "code",
      "metadata": {
        "id": "7T8S272Idj6g"
      },
      "source": [
        "rdd = sc.parallelize(range(1,100000))"
      ],
      "execution_count": null,
      "outputs": []
    },
    {
      "cell_type": "code",
      "metadata": {
        "id": "Nz4CC4u9d43K"
      },
      "source": [
        "rddCached = rdd.map(lambda x: x*10).cache()"
      ],
      "execution_count": null,
      "outputs": []
    },
    {
      "cell_type": "code",
      "metadata": {
        "id": "CYQ74fKfeCiY",
        "colab": {
          "base_uri": "https://localhost:8080/",
          "height": 35
        },
        "outputId": "4335a6b1-757a-42b5-dced-bdbc04a4ad9d"
      },
      "source": [
        "rddCached.count()"
      ],
      "execution_count": null,
      "outputs": [
        {
          "output_type": "execute_result",
          "data": {
            "text/plain": [
              "99999"
            ]
          },
          "metadata": {
            "tags": []
          },
          "execution_count": 94
        }
      ]
    },
    {
      "cell_type": "code",
      "metadata": {
        "id": "i27r47iieEHg",
        "colab": {
          "base_uri": "https://localhost:8080/",
          "height": 35
        },
        "outputId": "946eee08-7e6c-4f5a-c83c-f92cb568bded"
      },
      "source": [
        "rddCached.take(10)"
      ],
      "execution_count": null,
      "outputs": [
        {
          "output_type": "execute_result",
          "data": {
            "text/plain": [
              "[10, 20, 30, 40, 50, 60, 70, 80, 90, 100]"
            ]
          },
          "metadata": {
            "tags": []
          },
          "execution_count": 95
        }
      ]
    },
    {
      "cell_type": "markdown",
      "metadata": {
        "id": "Q-w0puPNfe5u"
      },
      "source": [
        "## SaveAsTextFile"
      ]
    },
    {
      "cell_type": "markdown",
      "metadata": {
        "id": "s0n6xyV5fiY1"
      },
      "source": [
        "Guarda un RDD a disco en un archivo de texto."
      ]
    },
    {
      "cell_type": "code",
      "metadata": {
        "id": "pFBypm_3dU15"
      },
      "source": [
        "rdd.saveAsTextFile('numbers.txt')"
      ],
      "execution_count": null,
      "outputs": []
    },
    {
      "cell_type": "code",
      "metadata": {
        "id": "2BB6t8lSdW_6"
      },
      "source": [
        "rddN = sc.textFile('numbers.txt')"
      ],
      "execution_count": null,
      "outputs": []
    },
    {
      "cell_type": "code",
      "metadata": {
        "id": "ThBA5KkEdidg"
      },
      "source": [
        "rddN.collect()"
      ],
      "execution_count": null,
      "outputs": []
    },
    {
      "cell_type": "markdown",
      "metadata": {
        "id": "98_lZqcufocO"
      },
      "source": [
        "## SaveAsPickleFile"
      ]
    },
    {
      "cell_type": "markdown",
      "metadata": {
        "id": "-uoTsAuIf1hG"
      },
      "source": [
        "Guarda un RDD a disco en un archivo con los datos serializados."
      ]
    },
    {
      "cell_type": "code",
      "metadata": {
        "id": "EE_YrGrEeGaq"
      },
      "source": [
        "rdd.saveAsPickleFile('numbers2.file')"
      ],
      "execution_count": null,
      "outputs": []
    },
    {
      "cell_type": "code",
      "metadata": {
        "id": "Ol9nG9vdej3h"
      },
      "source": [
        "rddN2 = sc.pickleFile('numbers2.file')"
      ],
      "execution_count": null,
      "outputs": []
    },
    {
      "cell_type": "code",
      "metadata": {
        "id": "nAOGcsPge2r6"
      },
      "source": [
        "rddN2.take(10)"
      ],
      "execution_count": null,
      "outputs": []
    },
    {
      "cell_type": "code",
      "metadata": {
        "id": "EE5o7gcVe4HC"
      },
      "source": [
        ""
      ],
      "execution_count": null,
      "outputs": []
    }
  ]
}