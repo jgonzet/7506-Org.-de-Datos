{
  "nbformat": 4,
  "nbformat_minor": 0,
  "metadata": {
    "kernelspec": {
      "name": "python3",
      "display_name": "Python 3"
    },
    "colab": {
      "name": "exploration.ipynb",
      "provenance": [],
      "collapsed_sections": [
        "NbMAsSyUWFve",
        "wwIW9nfvX3Dg"
      ],
      "include_colab_link": true
    }
  },
  "cells": [
    {
      "cell_type": "markdown",
      "metadata": {
        "id": "view-in-github",
        "colab_type": "text"
      },
      "source": [
        "<a href=\"https://colab.research.google.com/github/jgonzet/7506-Org.-de-Datos/blob/master/exploration.ipynb\" target=\"_parent\"><img src=\"https://colab.research.google.com/assets/colab-badge.svg\" alt=\"Open In Colab\"/></a>"
      ]
    },
    {
      "cell_type": "markdown",
      "metadata": {
        "id": "ZeAe8c75xKpi"
      },
      "source": [
        "# Click para importar librerías"
      ]
    },
    {
      "cell_type": "code",
      "metadata": {
        "id": "xH8FVDjRWEJ_"
      },
      "source": [
        "import numpy as np\n",
        "import pandas as pd\n",
        "import seaborn as sns\n",
        "import matplotlib.pyplot as plt\n",
        "%matplotlib inline"
      ],
      "execution_count": 1,
      "outputs": []
    },
    {
      "cell_type": "markdown",
      "metadata": {
        "id": "NbMAsSyUWFve"
      },
      "source": [
        "# Lectura y limpieza básica:\n",
        "\n",
        "Se levanta el csv y declaran variables categoricas como tales y algunas fechas\n",
        "se ponen en su formato. \n",
        "Se rellena territorio vacio Japon.\n",
        "Se filtran regiones o territorios nan.\n",
        "Se calcula para cada oportunidad su monto total. \n",
        "Se filtran las oportunidades que no son Won/Lost.\n",
        "Se transforma Stage a columna del tipo booleana."
      ]
    },
    {
      "cell_type": "code",
      "metadata": {
        "id": "f4bZBoXwWEKG"
      },
      "source": [
        "# Levantamos el csv declarando algunas variables categoricas:\n",
        "datos = pd.read_csv(\"/content/Entrenamieto_ECI_2020.csv\",dtype=\n",
        "                   {#'Region': 'category',\n",
        "                    #'Territory': 'category',\n",
        "                    'Source': 'category',\n",
        "                    'Billing_Country': 'category',\n",
        "                    'Account_Name': 'category',\n",
        "                    'Brand': 'category',\n",
        "                    'ASP_Currency': 'category',\n",
        "                    'ASP_(converted)_Currency': 'category',\n",
        "                    'Source ': 'category',\n",
        "                    #'Stage' : 'category'\n",
        "                    })\n",
        "\n",
        "#pd.set_option('display.max_columns', None) # Cuidado con esta opcion, usar solo cuando haga falta\n",
        "\n",
        "# Convertimos las fechas:\n",
        "datos['Account_Created_Date'] = pd.to_datetime(datos['Account_Created_Date'])\n",
        "datos['Opportunity_Created_Date'] = pd.to_datetime(datos['Opportunity_Created_Date'])\n",
        "datos['Planned_Delivery_Start_Date'] = pd.to_datetime(datos['Planned_Delivery_Start_Date'])\n",
        "datos['Planned_Delivery_End_Date'] = pd.to_datetime(datos['Planned_Delivery_End_Date'])\n",
        "#datos['Actual_Delivery_Date'] = pd.to_datetime(datos['Actual_Delivery_Date'])  # Esta fecha es basura\n",
        "\n",
        "       \n",
        "datos.rename(columns={'Source ': 'Source'}, inplace=True)  # Le quito el espacio en blanco\n",
        "datos.loc[datos.Region=='Japan','Territory']='Japan'       # Completo los blancos\n"
      ],
      "execution_count": 4,
      "outputs": []
    },
    {
      "cell_type": "code",
      "metadata": {
        "id": "nCldYLbFWEKO"
      },
      "source": [
        "# Los datos con geografía desconocida, no aportan (son unos 90 aproximadamente):\n",
        "datos = datos[~(datos['Territory'].isna()) | ~(datos['Region'].isna())]\n",
        "\n",
        "# Conversión a USD: \n",
        "datos['Total_Amount_Converted'] = (datos['ASP_(converted)']/datos['ASP'])*datos['Total_Amount'] \n",
        "\n",
        "# Suma de los montos para cada oportunidad:\n",
        "datos = datos.groupby('Opportunity_Name').agg({'Total_Amount_Converted':'sum'})\\\n",
        "                .rename(columns={'Total_Amount_Converted':'Total_Amount_Opportunity_converted'})\\\n",
        "                .join(datos.set_index('Opportunity_Name'))\\\n",
        "                .drop(columns='Total_Taxable_Amount')"
      ],
      "execution_count": 5,
      "outputs": []
    },
    {
      "cell_type": "code",
      "metadata": {
        "id": "xu-Pys9XWEKS"
      },
      "source": [
        "## Me quedo con los won y lost\n",
        "datos = datos[(datos['Stage']=='Closed Won') | (datos['Stage']=='Closed Lost')]\n",
        "\n",
        "# Trasformamos a bool:\n",
        "#datos['Stage'] = (datos['Stage']=='Closed Won')\n",
        "datos = datos.drop_duplicates() #por las dudas"
      ],
      "execution_count": 6,
      "outputs": []
    },
    {
      "cell_type": "markdown",
      "metadata": {
        "id": "5fC1xVl1mHDY"
      },
      "source": [
        "#Elige tu propia aventura\n",
        "Selecciona la region que te interesa analizar:"
      ]
    },
    {
      "cell_type": "code",
      "metadata": {
        "id": "KLU89-MMHUDl"
      },
      "source": [
        "region = 'APAC' # Japan, EMEA, Americas, APAC, Middle East"
      ],
      "execution_count": 7,
      "outputs": []
    },
    {
      "cell_type": "markdown",
      "metadata": {
        "id": "wwIW9nfvX3Dg"
      },
      "source": [
        "# Dale Play para que se arme el dataframe"
      ]
    },
    {
      "cell_type": "code",
      "metadata": {
        "id": "tHTwx_DYpS7U"
      },
      "source": [
        "# En esta sección, además de filtrar la region deseada, armamos nuestro propio dataframe mediante la selección custom de columnas que deseamos\n",
        "datos_region = datos[datos.Region==region]\n",
        "datos_region = datos_region[~(datos_region['Territory']=='None')] #limpio los None\n",
        "\n",
        "# Selección de datos:\n",
        "datos_unicos_oportunidades = datos_region[['Opportunity_ID','Total_Amount_Opportunity_converted','Territory','Stage','Source','Account_Name','Opportunity_Created_Date','Account_Created_Date',\\\n",
        "                                           'Opportunity_Owner']].drop_duplicates()"
      ],
      "execution_count": 8,
      "outputs": []
    },
    {
      "cell_type": "code",
      "metadata": {
        "id": "1AZwGJjvpleL"
      },
      "source": [
        "# Agrupación de datos\n",
        "\n",
        "grouped_datos_region = datos_region.groupby('Opportunity_Name').agg({'Opportunity_ID':'count','TRF':'sum'})\n",
        "grouped_datos_region.columns = ['Items_count','Total_TRF']\n",
        "\n",
        "opportunities_region = grouped_datos_region.join(datos_unicos_oportunidades).drop_duplicates()\n",
        "opportunities_region = opportunities_region.rename(columns={'Opportunity_ID':'ID','Total_Amount_Opportunity_converted':'Total_Amount(Converted)'})\n"
      ],
      "execution_count": 9,
      "outputs": []
    },
    {
      "cell_type": "markdown",
      "metadata": {
        "id": "OjmiEJ-xmQB-"
      },
      "source": [
        "# Distintos análisis para la region elegida\n",
        "El dataframe se llama Opportunities_Region"
      ]
    },
    {
      "cell_type": "code",
      "metadata": {
        "id": "kneMX7bpq6p8",
        "outputId": "d0bac235-74de-4f22-e2bf-51f0c523cab8",
        "colab": {
          "base_uri": "https://localhost:8080/"
        }
      },
      "source": [
        "# Cantidad de oportunidades distintas para la region:\n",
        "opportunities_region.index.value_counts().sum()"
      ],
      "execution_count": null,
      "outputs": [
        {
          "output_type": "execute_result",
          "data": {
            "text/plain": [
              "2059"
            ]
          },
          "metadata": {
            "tags": []
          },
          "execution_count": 206
        }
      ]
    },
    {
      "cell_type": "code",
      "metadata": {
        "id": "LTFrJGhXpxJL",
        "outputId": "0b46bf01-c271-433b-928b-62781bf235eb",
        "colab": {
          "base_uri": "https://localhost:8080/",
          "height": 235
        }
      },
      "source": [
        "# Vistazo al dataframe\n",
        "opportunities_region.head()"
      ],
      "execution_count": null,
      "outputs": [
        {
          "output_type": "execute_result",
          "data": {
            "text/html": [
              "<div>\n",
              "<style scoped>\n",
              "    .dataframe tbody tr th:only-of-type {\n",
              "        vertical-align: middle;\n",
              "    }\n",
              "\n",
              "    .dataframe tbody tr th {\n",
              "        vertical-align: top;\n",
              "    }\n",
              "\n",
              "    .dataframe thead th {\n",
              "        text-align: right;\n",
              "    }\n",
              "</style>\n",
              "<table border=\"1\" class=\"dataframe\">\n",
              "  <thead>\n",
              "    <tr style=\"text-align: right;\">\n",
              "      <th></th>\n",
              "      <th>Items_count</th>\n",
              "      <th>Total_TRF</th>\n",
              "      <th>ID</th>\n",
              "      <th>Total_Amount(Converted)</th>\n",
              "      <th>Territory</th>\n",
              "      <th>Stage</th>\n",
              "      <th>Source</th>\n",
              "      <th>Account_Name</th>\n",
              "      <th>Opportunity_Created_Date</th>\n",
              "      <th>Account_Created_Date</th>\n",
              "      <th>Opportunity_Owner</th>\n",
              "    </tr>\n",
              "    <tr>\n",
              "      <th>Opportunity_Name</th>\n",
              "      <th></th>\n",
              "      <th></th>\n",
              "      <th></th>\n",
              "      <th></th>\n",
              "      <th></th>\n",
              "      <th></th>\n",
              "      <th></th>\n",
              "      <th></th>\n",
              "      <th></th>\n",
              "      <th></th>\n",
              "      <th></th>\n",
              "    </tr>\n",
              "  </thead>\n",
              "  <tbody>\n",
              "    <tr>\n",
              "      <th>Opportunity_Name_0</th>\n",
              "      <td>7</td>\n",
              "      <td>7</td>\n",
              "      <td>1313</td>\n",
              "      <td>3494400.0</td>\n",
              "      <td>NW America</td>\n",
              "      <td>Closed Lost</td>\n",
              "      <td>Source_7</td>\n",
              "      <td>Account_Name_265</td>\n",
              "      <td>2016-03-04</td>\n",
              "      <td>2015-07-30</td>\n",
              "      <td>Person_Name_8</td>\n",
              "    </tr>\n",
              "    <tr>\n",
              "      <th>Opportunity_Name_1</th>\n",
              "      <td>7</td>\n",
              "      <td>4</td>\n",
              "      <td>1321</td>\n",
              "      <td>2193100.0</td>\n",
              "      <td>NW America</td>\n",
              "      <td>Closed Lost</td>\n",
              "      <td>Source_7</td>\n",
              "      <td>Account_Name_548</td>\n",
              "      <td>2016-03-05</td>\n",
              "      <td>2013-07-27</td>\n",
              "      <td>Person_Name_33</td>\n",
              "    </tr>\n",
              "    <tr>\n",
              "      <th>Opportunity_Name_10023</th>\n",
              "      <td>1</td>\n",
              "      <td>0</td>\n",
              "      <td>316</td>\n",
              "      <td>2870.0</td>\n",
              "      <td>SE America</td>\n",
              "      <td>Closed Won</td>\n",
              "      <td>None</td>\n",
              "      <td>Account_Name_1407</td>\n",
              "      <td>2017-01-03</td>\n",
              "      <td>2016-05-24</td>\n",
              "      <td>Person_Name_38</td>\n",
              "    </tr>\n",
              "    <tr>\n",
              "      <th>Opportunity_Name_10041</th>\n",
              "      <td>2</td>\n",
              "      <td>0</td>\n",
              "      <td>7462</td>\n",
              "      <td>101185.0</td>\n",
              "      <td>SW America</td>\n",
              "      <td>Closed Won</td>\n",
              "      <td>Source_7</td>\n",
              "      <td>Account_Name_1437</td>\n",
              "      <td>2018-01-19</td>\n",
              "      <td>2018-01-19</td>\n",
              "      <td>Person_Name_46</td>\n",
              "    </tr>\n",
              "    <tr>\n",
              "      <th>Opportunity_Name_1012</th>\n",
              "      <td>2</td>\n",
              "      <td>6</td>\n",
              "      <td>2914</td>\n",
              "      <td>2293200.0</td>\n",
              "      <td>NW America</td>\n",
              "      <td>Closed Won</td>\n",
              "      <td>None</td>\n",
              "      <td>Account_Name_1662</td>\n",
              "      <td>2016-10-29</td>\n",
              "      <td>2013-08-22</td>\n",
              "      <td>Person_Name_8</td>\n",
              "    </tr>\n",
              "  </tbody>\n",
              "</table>\n",
              "</div>"
            ],
            "text/plain": [
              "                        Items_count  ...  Opportunity_Owner\n",
              "Opportunity_Name                     ...                   \n",
              "Opportunity_Name_0                7  ...      Person_Name_8\n",
              "Opportunity_Name_1                7  ...     Person_Name_33\n",
              "Opportunity_Name_10023            1  ...     Person_Name_38\n",
              "Opportunity_Name_10041            2  ...     Person_Name_46\n",
              "Opportunity_Name_1012             2  ...      Person_Name_8\n",
              "\n",
              "[5 rows x 11 columns]"
            ]
          },
          "metadata": {
            "tags": []
          },
          "execution_count": 207
        }
      ]
    },
    {
      "cell_type": "code",
      "metadata": {
        "id": "2YX5cV6slu4Q",
        "outputId": "928a93ea-c69b-4437-fecb-5d7648db1080",
        "colab": {
          "base_uri": "https://localhost:8080/"
        }
      },
      "source": [
        "# Oportunidades por territorios\n",
        "opportunities_region.Territory.value_counts()"
      ],
      "execution_count": null,
      "outputs": [
        {
          "output_type": "execute_result",
          "data": {
            "text/plain": [
              "NW America    874\n",
              "NE America    518\n",
              "SE America    332\n",
              "Central US    145\n",
              "SW America    102\n",
              "Canada         61\n",
              "Carribean      27\n",
              "Name: Territory, dtype: int64"
            ]
          },
          "metadata": {
            "tags": []
          },
          "execution_count": 208
        }
      ]
    },
    {
      "cell_type": "markdown",
      "metadata": {
        "id": "GkbcRj0eycvo"
      },
      "source": [
        "## A continuación los diferentes análisis hechos para estos datos. Cada Análisis finaliza con un gráfico concluyente mostrando lo observado."
      ]
    },
    {
      "cell_type": "markdown",
      "metadata": {
        "id": "EsabL7_drfMN"
      },
      "source": [
        "#Analisis 1\n",
        "\n",
        "Vamos a hacer un analisis estadístico de las oportunidades para cada país de la región."
      ]
    },
    {
      "cell_type": "code",
      "metadata": {
        "id": "C7E3Hd1hou_k",
        "outputId": "b6ddc530-7fa7-4c54-e12f-ba37a14bd940",
        "colab": {
          "base_uri": "https://localhost:8080/",
          "height": 390
        }
      },
      "source": [
        "\n",
        "grouped1 = opportunities_region.groupby(['Territory','Stage'])\\\n",
        "                               .agg({'ID':'count','Total_Amount(Converted)':'sum'})\\\n",
        "                               .rename(columns={'ID':'Opportunities','Total_Amount(Converted)':'Total_Amount'})\n",
        "\n",
        "grouped1['Mean_Amount'] = grouped1.Total_Amount/grouped1.Opportunities #promedio de monto por oportunidad para ese pais\n",
        "\n",
        "grouped1.head(10)"
      ],
      "execution_count": 30,
      "outputs": [
        {
          "output_type": "execute_result",
          "data": {
            "text/html": [
              "<div>\n",
              "<style scoped>\n",
              "    .dataframe tbody tr th:only-of-type {\n",
              "        vertical-align: middle;\n",
              "    }\n",
              "\n",
              "    .dataframe tbody tr th {\n",
              "        vertical-align: top;\n",
              "    }\n",
              "\n",
              "    .dataframe thead th {\n",
              "        text-align: right;\n",
              "    }\n",
              "</style>\n",
              "<table border=\"1\" class=\"dataframe\">\n",
              "  <thead>\n",
              "    <tr style=\"text-align: right;\">\n",
              "      <th></th>\n",
              "      <th></th>\n",
              "      <th>Opportunities</th>\n",
              "      <th>Total_Amount</th>\n",
              "      <th>Mean_Amount</th>\n",
              "    </tr>\n",
              "    <tr>\n",
              "      <th>Territory</th>\n",
              "      <th>Stage</th>\n",
              "      <th></th>\n",
              "      <th></th>\n",
              "      <th></th>\n",
              "    </tr>\n",
              "  </thead>\n",
              "  <tbody>\n",
              "    <tr>\n",
              "      <th rowspan=\"2\" valign=\"top\">Australia</th>\n",
              "      <th>Closed Lost</th>\n",
              "      <td>194</td>\n",
              "      <td>2.335216e+09</td>\n",
              "      <td>1.203720e+07</td>\n",
              "    </tr>\n",
              "    <tr>\n",
              "      <th>Closed Won</th>\n",
              "      <td>383</td>\n",
              "      <td>6.313705e+07</td>\n",
              "      <td>1.648487e+05</td>\n",
              "    </tr>\n",
              "    <tr>\n",
              "      <th>Burma</th>\n",
              "      <th>Closed Lost</th>\n",
              "      <td>1</td>\n",
              "      <td>2.842125e+04</td>\n",
              "      <td>2.842125e+04</td>\n",
              "    </tr>\n",
              "    <tr>\n",
              "      <th rowspan=\"2\" valign=\"top\">Cambodia</th>\n",
              "      <th>Closed Lost</th>\n",
              "      <td>2</td>\n",
              "      <td>2.260020e+06</td>\n",
              "      <td>1.130010e+06</td>\n",
              "    </tr>\n",
              "    <tr>\n",
              "      <th>Closed Won</th>\n",
              "      <td>2</td>\n",
              "      <td>1.279005e+05</td>\n",
              "      <td>6.395025e+04</td>\n",
              "    </tr>\n",
              "    <tr>\n",
              "      <th rowspan=\"2\" valign=\"top\">China (PRC)</th>\n",
              "      <th>Closed Lost</th>\n",
              "      <td>7</td>\n",
              "      <td>1.233950e+07</td>\n",
              "      <td>1.762786e+06</td>\n",
              "    </tr>\n",
              "    <tr>\n",
              "      <th>Closed Won</th>\n",
              "      <td>45</td>\n",
              "      <td>2.780940e+06</td>\n",
              "      <td>6.179866e+04</td>\n",
              "    </tr>\n",
              "    <tr>\n",
              "      <th rowspan=\"2\" valign=\"top\">India</th>\n",
              "      <th>Closed Lost</th>\n",
              "      <td>368</td>\n",
              "      <td>6.985663e+08</td>\n",
              "      <td>1.898278e+06</td>\n",
              "    </tr>\n",
              "    <tr>\n",
              "      <th>Closed Won</th>\n",
              "      <td>310</td>\n",
              "      <td>8.960563e+07</td>\n",
              "      <td>2.890504e+05</td>\n",
              "    </tr>\n",
              "    <tr>\n",
              "      <th>Indonesia</th>\n",
              "      <th>Closed Lost</th>\n",
              "      <td>88</td>\n",
              "      <td>1.175635e+08</td>\n",
              "      <td>1.335949e+06</td>\n",
              "    </tr>\n",
              "  </tbody>\n",
              "</table>\n",
              "</div>"
            ],
            "text/plain": [
              "                         Opportunities  Total_Amount   Mean_Amount\n",
              "Territory   Stage                                                 \n",
              "Australia   Closed Lost            194  2.335216e+09  1.203720e+07\n",
              "            Closed Won             383  6.313705e+07  1.648487e+05\n",
              "Burma       Closed Lost              1  2.842125e+04  2.842125e+04\n",
              "Cambodia    Closed Lost              2  2.260020e+06  1.130010e+06\n",
              "            Closed Won               2  1.279005e+05  6.395025e+04\n",
              "China (PRC) Closed Lost              7  1.233950e+07  1.762786e+06\n",
              "            Closed Won              45  2.780940e+06  6.179866e+04\n",
              "India       Closed Lost            368  6.985663e+08  1.898278e+06\n",
              "            Closed Won             310  8.960563e+07  2.890504e+05\n",
              "Indonesia   Closed Lost             88  1.175635e+08  1.335949e+06"
            ]
          },
          "metadata": {
            "tags": []
          },
          "execution_count": 30
        }
      ]
    },
    {
      "cell_type": "code",
      "metadata": {
        "id": "GALpMNNMutrJ",
        "outputId": "127ca205-8779-4f44-8509-638a2a0a684a",
        "colab": {
          "base_uri": "https://localhost:8080/",
          "height": 359
        }
      },
      "source": [
        "grouped1.reset_index(inplace=True)\n",
        "grouped1[grouped1.Stage=='Closed Won'].nlargest(10,'Mean_Amount')"
      ],
      "execution_count": 26,
      "outputs": [
        {
          "output_type": "execute_result",
          "data": {
            "text/html": [
              "<div>\n",
              "<style scoped>\n",
              "    .dataframe tbody tr th:only-of-type {\n",
              "        vertical-align: middle;\n",
              "    }\n",
              "\n",
              "    .dataframe tbody tr th {\n",
              "        vertical-align: top;\n",
              "    }\n",
              "\n",
              "    .dataframe thead th {\n",
              "        text-align: right;\n",
              "    }\n",
              "</style>\n",
              "<table border=\"1\" class=\"dataframe\">\n",
              "  <thead>\n",
              "    <tr style=\"text-align: right;\">\n",
              "      <th></th>\n",
              "      <th>Territory</th>\n",
              "      <th>Stage</th>\n",
              "      <th>Opportunities</th>\n",
              "      <th>Total_Amount</th>\n",
              "      <th>Mean_Amount</th>\n",
              "    </tr>\n",
              "  </thead>\n",
              "  <tbody>\n",
              "    <tr>\n",
              "      <th>24</th>\n",
              "      <td>Taiwan</td>\n",
              "      <td>Closed Won</td>\n",
              "      <td>7</td>\n",
              "      <td>4.941021e+06</td>\n",
              "      <td>705860.200000</td>\n",
              "    </tr>\n",
              "    <tr>\n",
              "      <th>8</th>\n",
              "      <td>India</td>\n",
              "      <td>Closed Won</td>\n",
              "      <td>310</td>\n",
              "      <td>8.960563e+07</td>\n",
              "      <td>289050.415581</td>\n",
              "    </tr>\n",
              "    <tr>\n",
              "      <th>26</th>\n",
              "      <td>Thailand</td>\n",
              "      <td>Closed Won</td>\n",
              "      <td>77</td>\n",
              "      <td>1.794616e+07</td>\n",
              "      <td>233067.068701</td>\n",
              "    </tr>\n",
              "    <tr>\n",
              "      <th>22</th>\n",
              "      <td>South Korea</td>\n",
              "      <td>Closed Won</td>\n",
              "      <td>6</td>\n",
              "      <td>1.175210e+06</td>\n",
              "      <td>195868.333333</td>\n",
              "    </tr>\n",
              "    <tr>\n",
              "      <th>1</th>\n",
              "      <td>Australia</td>\n",
              "      <td>Closed Won</td>\n",
              "      <td>383</td>\n",
              "      <td>6.313705e+07</td>\n",
              "      <td>164848.697046</td>\n",
              "    </tr>\n",
              "    <tr>\n",
              "      <th>20</th>\n",
              "      <td>South East Asia</td>\n",
              "      <td>Closed Won</td>\n",
              "      <td>1</td>\n",
              "      <td>8.120000e+04</td>\n",
              "      <td>81200.000000</td>\n",
              "    </tr>\n",
              "    <tr>\n",
              "      <th>10</th>\n",
              "      <td>Indonesia</td>\n",
              "      <td>Closed Won</td>\n",
              "      <td>50</td>\n",
              "      <td>4.015942e+06</td>\n",
              "      <td>80318.849000</td>\n",
              "    </tr>\n",
              "    <tr>\n",
              "      <th>13</th>\n",
              "      <td>New Zealand</td>\n",
              "      <td>Closed Won</td>\n",
              "      <td>17</td>\n",
              "      <td>1.209215e+06</td>\n",
              "      <td>71130.276471</td>\n",
              "    </tr>\n",
              "    <tr>\n",
              "      <th>17</th>\n",
              "      <td>Singapore</td>\n",
              "      <td>Closed Won</td>\n",
              "      <td>216</td>\n",
              "      <td>1.464910e+07</td>\n",
              "      <td>67819.887176</td>\n",
              "    </tr>\n",
              "    <tr>\n",
              "      <th>4</th>\n",
              "      <td>Cambodia</td>\n",
              "      <td>Closed Won</td>\n",
              "      <td>2</td>\n",
              "      <td>1.279005e+05</td>\n",
              "      <td>63950.250000</td>\n",
              "    </tr>\n",
              "  </tbody>\n",
              "</table>\n",
              "</div>"
            ],
            "text/plain": [
              "          Territory       Stage  Opportunities  Total_Amount    Mean_Amount\n",
              "24           Taiwan  Closed Won              7  4.941021e+06  705860.200000\n",
              "8             India  Closed Won            310  8.960563e+07  289050.415581\n",
              "26         Thailand  Closed Won             77  1.794616e+07  233067.068701\n",
              "22      South Korea  Closed Won              6  1.175210e+06  195868.333333\n",
              "1         Australia  Closed Won            383  6.313705e+07  164848.697046\n",
              "20  South East Asia  Closed Won              1  8.120000e+04   81200.000000\n",
              "10        Indonesia  Closed Won             50  4.015942e+06   80318.849000\n",
              "13      New Zealand  Closed Won             17  1.209215e+06   71130.276471\n",
              "17        Singapore  Closed Won            216  1.464910e+07   67819.887176\n",
              "4          Cambodia  Closed Won              2  1.279005e+05   63950.250000"
            ]
          },
          "metadata": {
            "tags": []
          },
          "execution_count": 26
        }
      ]
    },
    {
      "cell_type": "markdown",
      "metadata": {
        "id": "PVMrqv0BvDRx"
      },
      "source": [
        "# Analisis 2\n",
        "Vamos a buscar nuestros mejores clientes de la region"
      ]
    },
    {
      "cell_type": "code",
      "metadata": {
        "id": "C6gUJzw0vHet"
      },
      "source": [
        ""
      ],
      "execution_count": null,
      "outputs": []
    },
    {
      "cell_type": "markdown",
      "metadata": {
        "id": "wBbQAkz6vQHN"
      },
      "source": [
        "# Analisis 3\n",
        "Vamos a buscar nuestros mejores vendedores de la region"
      ]
    },
    {
      "cell_type": "code",
      "metadata": {
        "id": "5vcEVr77vUVx"
      },
      "source": [
        ""
      ],
      "execution_count": null,
      "outputs": []
    }
  ]
}