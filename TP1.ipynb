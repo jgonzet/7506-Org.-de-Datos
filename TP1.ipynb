{
  "nbformat": 4,
  "nbformat_minor": 0,
  "metadata": {
    "colab": {
      "name": "TP1.ipynb",
      "provenance": [],
      "mount_file_id": "1jaNE3HCqt7rWSJu5jvdjEZj5ZRUFZkUV",
      "authorship_tag": "ABX9TyNAyj84W6bnPihWEkEx2OXc",
      "include_colab_link": true
    },
    "kernelspec": {
      "name": "python3",
      "display_name": "Python 3"
    }
  },
  "cells": [
    {
      "cell_type": "markdown",
      "metadata": {
        "id": "view-in-github",
        "colab_type": "text"
      },
      "source": [
        "<a href=\"https://colab.research.google.com/github/jgonzet/7506-Org.-de-Datos/blob/master/TP1.ipynb\" target=\"_parent\"><img src=\"https://colab.research.google.com/assets/colab-badge.svg\" alt=\"Open In Colab\"/></a>"
      ]
    },
    {
      "cell_type": "code",
      "metadata": {
        "id": "w6Cm3SOGGnws"
      },
      "source": [
        "import pandas as pd"
      ],
      "execution_count": null,
      "outputs": []
    },
    {
      "cell_type": "code",
      "metadata": {
        "id": "aJoJQBXGGwii"
      },
      "source": [
        "# ejercicio 1\n",
        "datos = pd.read_csv(\"/content/drive/My Drive/Datos/Org. de Datos/Entrenamieto_ECI_2020.csv\")#, encoding='latin-1')"
      ],
      "execution_count": null,
      "outputs": []
    },
    {
      "cell_type": "code",
      "metadata": {
        "id": "tAdlwoGVjaoY"
      },
      "source": [
        "# ejercicio 2\n",
        "datos_emea = datos.loc[datos.Region.str.contains('EMEA')]\n",
        "top10_datos_emea = datos_emea.nlargest(10,'Total_Amount')[['ID','Territory','Delivery_Quarter','Delivery_Year']]\n",
        "top10_datos_emea"
      ],
      "execution_count": null,
      "outputs": []
    },
    {
      "cell_type": "code",
      "metadata": {
        "id": "EVPoiHDpKFvp",
        "outputId": "1d4f0586-54c5-41df-c86b-ab2819beabca",
        "colab": {
          "base_uri": "https://localhost:8080/",
          "height": 101
        }
      },
      "source": [
        "# ejercicio 3: limpiar los datos que no son numericos\n",
        "alemanes = datos.loc[datos.Territory.str.contains('Germany')]\n",
        "alemanes.dropna(inplace=True)"
      ],
      "execution_count": 134,
      "outputs": [
        {
          "output_type": "stream",
          "text": [
            "/usr/local/lib/python3.6/dist-packages/ipykernel_launcher.py:3: SettingWithCopyWarning: \n",
            "A value is trying to be set on a copy of a slice from a DataFrame\n",
            "\n",
            "See the caveats in the documentation: https://pandas.pydata.org/pandas-docs/stable/user_guide/indexing.html#returning-a-view-versus-a-copy\n",
            "  This is separate from the ipykernel package so we can avoid doing imports until\n"
          ],
          "name": "stderr"
        }
      ]
    },
    {
      "cell_type": "code",
      "metadata": {
        "id": "Ase_DeUAp4Lu"
      },
      "source": [
        ""
      ],
      "execution_count": null,
      "outputs": []
    }
  ]
}