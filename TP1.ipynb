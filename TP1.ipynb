{
  "nbformat": 4,
  "nbformat_minor": 0,
  "metadata": {
    "colab": {
      "name": "TP1.ipynb",
      "provenance": [],
      "collapsed_sections": [],
      "mount_file_id": "1jaNE3HCqt7rWSJu5jvdjEZj5ZRUFZkUV",
      "authorship_tag": "ABX9TyN0fsKKycNwMEAn9k0MddgR",
      "include_colab_link": true
    },
    "kernelspec": {
      "name": "python3",
      "display_name": "Python 3"
    }
  },
  "cells": [
    {
      "cell_type": "markdown",
      "metadata": {
        "id": "view-in-github",
        "colab_type": "text"
      },
      "source": [
        "<a href=\"https://colab.research.google.com/github/jgonzet/7506-Org.-de-Datos/blob/master/TP1.ipynb\" target=\"_parent\"><img src=\"https://colab.research.google.com/assets/colab-badge.svg\" alt=\"Open In Colab\"/></a>"
      ]
    },
    {
      "cell_type": "code",
      "metadata": {
        "id": "w6Cm3SOGGnws"
      },
      "source": [
        "import pandas as pd"
      ],
      "execution_count": 135,
      "outputs": []
    },
    {
      "cell_type": "code",
      "metadata": {
        "id": "aJoJQBXGGwii"
      },
      "source": [
        "# ejercicio 1\n",
        "datos = pd.read_csv(\"/content/drive/My Drive/Datos/Org. de Datos/Entrenamieto_ECI_2020.csv\")#, encoding='latin-1')"
      ],
      "execution_count": 136,
      "outputs": []
    },
    {
      "cell_type": "code",
      "metadata": {
        "id": "tAdlwoGVjaoY"
      },
      "source": [
        "# ejercicio 2\n",
        "datos_emea = datos.loc[datos.Region.str.contains('EMEA')]\n",
        "top10_datos_emea = datos_emea.nlargest(10,'Total_Amount')[['ID','Territory','Delivery_Quarter','Delivery_Year']]"
      ],
      "execution_count": null,
      "outputs": []
    },
    {
      "cell_type": "code",
      "metadata": {
        "id": "EVPoiHDpKFvp",
        "outputId": "232e7ba5-6bd0-49a4-936b-d0fcf28e5399",
        "colab": {
          "base_uri": "https://localhost:8080/",
          "height": 34
        }
      },
      "source": [
        "# ejercicio 3: limpiar los datos que no son numericos\n",
        "alemanes = datos.loc[datos.Territory.str.contains('Germany')]\n",
        "pd.to_numeric(alemanes['Price'],errors='coerce').dropna().mean()"
      ],
      "execution_count": 141,
      "outputs": [
        {
          "output_type": "execute_result",
          "data": {
            "text/plain": [
              "0.26467889908256864"
            ]
          },
          "metadata": {
            "tags": []
          },
          "execution_count": 141
        }
      ]
    },
    {
      "cell_type": "code",
      "metadata": {
        "id": "Ase_DeUAp4Lu"
      },
      "source": [
        ""
      ],
      "execution_count": null,
      "outputs": []
    }
  ]
}