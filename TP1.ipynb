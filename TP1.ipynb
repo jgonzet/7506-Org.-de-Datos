{
  "nbformat": 4,
  "nbformat_minor": 0,
  "metadata": {
    "colab": {
      "name": "TP1.ipynb",
      "provenance": [],
      "mount_file_id": "1jaNE3HCqt7rWSJu5jvdjEZj5ZRUFZkUV",
      "authorship_tag": "ABX9TyN50Iu0+3VvRVJClU+ukGp+",
      "include_colab_link": true
    },
    "kernelspec": {
      "name": "python3",
      "display_name": "Python 3"
    }
  },
  "cells": [
    {
      "cell_type": "markdown",
      "metadata": {
        "id": "view-in-github",
        "colab_type": "text"
      },
      "source": [
        "<a href=\"https://colab.research.google.com/github/jgonzet/7506-Org.-de-Datos/blob/master/TP1.ipynb\" target=\"_parent\"><img src=\"https://colab.research.google.com/assets/colab-badge.svg\" alt=\"Open In Colab\"/></a>"
      ]
    },
    {
      "cell_type": "code",
      "metadata": {
        "id": "w6Cm3SOGGnws"
      },
      "source": [
        "import pandas as pd\n",
        "import numpy as np\n",
        "import matplotlib.pyplot as plt"
      ],
      "execution_count": 1,
      "outputs": []
    },
    {
      "cell_type": "code",
      "metadata": {
        "id": "aJoJQBXGGwii"
      },
      "source": [
        "datos = pd.read_csv(\"/content/drive/My Drive/Datos/Org. de Datos/Entrenamieto_ECI_2020.csv\")#, encoding='latin-1')\n",
        "datos.tail()"
      ],
      "execution_count": null,
      "outputs": []
    },
    {
      "cell_type": "code",
      "metadata": {
        "id": "E7_0HHp7HHif"
      },
      "source": [
        "datos.describe()\n",
        "index_datos_emea = datos['Region'] == 'EMEA'\n",
        "index_datos_emea"
      ],
      "execution_count": null,
      "outputs": []
    },
    {
      "cell_type": "code",
      "metadata": {
        "id": "YrthT7FTHnMi"
      },
      "source": [
        "datos_emea = datos[index_datos_emea]\n",
        "TA_emea = datos_emea['Total_Amount']\n",
        "intex_top10_TA = TA_emea.sort_values()[:10].index\n",
        "datos_finales = datos_emea[['ID','Territory','Delivery_Quarter','Delivery_Year']]"
      ],
      "execution_count": 53,
      "outputs": []
    },
    {
      "cell_type": "code",
      "metadata": {
        "id": "EVPoiHDpKFvp"
      },
      "source": [
        ""
      ],
      "execution_count": null,
      "outputs": []
    }
  ]
}